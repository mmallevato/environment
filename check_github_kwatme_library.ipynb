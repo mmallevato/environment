{
 "cells": [
  {
   "cell_type": "code",
   "execution_count": 1,
   "metadata": {
    "ExecuteTime": {
     "end_time": "2018-05-15T09:29:59.556206Z",
     "start_time": "2018-05-15T09:29:59.449974Z"
    }
   },
   "outputs": [],
   "source": [
    "%load_ext autoreload\n",
    "\n",
    "%autoreload 2"
   ]
  },
  {
   "cell_type": "code",
   "execution_count": 2,
   "metadata": {
    "ExecuteTime": {
     "end_time": "2018-05-15T09:08:33.008982Z",
     "start_time": "2018-05-15T09:08:33.002590Z"
    }
   },
   "outputs": [],
   "source": [
    "import os\n",
    "import subprocess\n",
    "import sys\n",
    "import warnings"
   ]
  },
  {
   "cell_type": "code",
   "execution_count": 3,
   "metadata": {
    "ExecuteTime": {
     "end_time": "2018-05-15T09:08:33.017377Z",
     "start_time": "2018-05-15T09:08:33.012780Z"
    }
   },
   "outputs": [],
   "source": [
    "github_kwatme_library_directory_path = '../library'"
   ]
  },
  {
   "cell_type": "code",
   "execution_count": 4,
   "metadata": {
    "ExecuteTime": {
     "end_time": "2018-05-15T09:08:37.815899Z",
     "start_time": "2018-05-15T09:08:33.021468Z"
    },
    "scrolled": false
   },
   "outputs": [
    {
     "name": "stdout",
     "output_type": "stream",
     "text": [
      "0 classification\n",
      "\tfrom classification import __init__\n",
      "\tfrom classification import train_and_classify\n",
      "1 clustering\n",
      "\tfrom clustering import hierarchical_consensus_cluster_with_multiple_k\n",
      "\tfrom clustering import _count_coclustering_and_normalize\n",
      "\tfrom clustering import nmf_consensus_cluster\n",
      "\tfrom clustering import nmf_consensus_cluster_with_multiple_k\n",
      "\tfrom clustering import __init__\n",
      "\tfrom clustering import hierarchical_consensus_cluster\n",
      "2 context\n",
      "\tfrom context import make_context_matrix\n",
      "\tfrom context import plot_context\n",
      "\tfrom context import __init__\n",
      "\tfrom context import fit_skew_t_pdf\n",
      "\tfrom context import compute_context\n",
      "\tfrom context import fit_skew_t_pdfs\n",
      "3 cross_validation\n",
      "\tfrom cross_validation import cross_validate\n",
      "\tfrom cross_validation import __init__\n",
      "4 dimension_scaling\n",
      "\tfrom dimension_scaling import __init__\n",
      "\tfrom dimension_scaling import mds\n",
      "5 feature\n",
      "\tfrom feature import get_gff3_attribute\n",
      "\tfrom feature import __init__\n",
      "\tfrom feature import read_gff3_gz\n",
      "\tfrom feature import FeatureHDF5\n",
      "\tfrom feature import index_gff3_df_by_name\n",
      "6 feature_x_sample\n",
      "\tfrom feature_x_sample import summarize_feature_x_sample\n",
      "\tfrom feature_x_sample import __init__\n",
      "\tfrom feature_x_sample import read_and_process_feature_x_sample\n"
     ]
    },
    {
     "name": "stderr",
     "output_type": "stream",
     "text": [
      "/home/kwatme/miniconda3/lib/python3.6/site-packages/ipykernel_launcher.py:72: UserWarning:\n",
      "\n",
      "../library/feature_x_sample/README.md: 'Feature X Sample' != 'Feature x Sample'\n",
      "\n"
     ]
    },
    {
     "name": "stdout",
     "output_type": "stream",
     "text": [
      "7 gct_gmt\n",
      "\tfrom gct_gmt import access_gmt\n",
      "\tfrom gct_gmt import __init__\n",
      "\tfrom gct_gmt import access_gct\n"
     ]
    },
    {
     "name": "stderr",
     "output_type": "stream",
     "text": [
      "/home/kwatme/miniconda3/lib/python3.6/site-packages/ipykernel_launcher.py:72: UserWarning:\n",
      "\n",
      "../library/gct_gmt/README.md: 'Gct Gmt' != 'GCT GMT'\n",
      "\n"
     ]
    },
    {
     "name": "stdout",
     "output_type": "stream",
     "text": [
      "8 genome\n",
      "\tfrom genome import Genome\n",
      "\tfrom genome import __init__\n",
      "9 geo\n",
      "\tfrom geo import __init__\n",
      "\tfrom geo import download_and_parse_geo_data\n"
     ]
    },
    {
     "name": "stderr",
     "output_type": "stream",
     "text": [
      "/home/kwatme/miniconda3/lib/python3.6/site-packages/ipykernel_launcher.py:72: UserWarning:\n",
      "\n",
      "../library/geo/README.md: 'Geo' != 'GEO'\n",
      "\n"
     ]
    },
    {
     "name": "stdout",
     "output_type": "stream",
     "text": [
      "10 gps_map\n",
      "\tfrom gps_map import _anneal_node_and_element_positions\n",
      "\tfrom gps_map import _get_triangulation_edges\n",
      "\tfrom gps_map import access_gps_map\n",
      "\tfrom gps_map import _plot_gps_map\n",
      "\tfrom gps_map import __init__\n",
      "\tfrom gps_map import GPSMap\n"
     ]
    },
    {
     "name": "stderr",
     "output_type": "stream",
     "text": [
      "/home/kwatme/miniconda3/lib/python3.6/site-packages/ipykernel_launcher.py:72: UserWarning:\n",
      "\n",
      "../library/gps_map/README.md: 'Gps Map' != 'GPS Map'\n",
      "\n"
     ]
    },
    {
     "name": "stdout",
     "output_type": "stream",
     "text": [
      "11 gsea\n",
      "\tfrom gsea import gsea\n",
      "\tfrom gsea import single_sample_gsea\n",
      "\tfrom gsea import __init__\n",
      "\tfrom gsea import _plot_mountain_plot\n",
      "\tfrom gsea import single_sample_gseas\n"
     ]
    },
    {
     "name": "stderr",
     "output_type": "stream",
     "text": [
      "/home/kwatme/miniconda3/lib/python3.6/site-packages/ipykernel_launcher.py:72: UserWarning:\n",
      "\n",
      "../library/gsea/README.md: 'Gsea' != 'GSEA'\n",
      "\n"
     ]
    },
    {
     "name": "stdout",
     "output_type": "stream",
     "text": [
      "12 hdf5\n",
      "\tfrom hdf5 import read_where_and_map_column_names\n",
      "\tfrom hdf5 import __init__\n"
     ]
    },
    {
     "name": "stderr",
     "output_type": "stream",
     "text": [
      "/home/kwatme/miniconda3/lib/python3.6/site-packages/ipykernel_launcher.py:72: UserWarning:\n",
      "\n",
      "../library/hdf5/README.md: 'Hdf5' != 'HDF5'\n",
      "\n"
     ]
    },
    {
     "name": "stdout",
     "output_type": "stream",
     "text": [
      "13 information\n",
      "\tfrom information import compute_information_coefficient\n",
      "\tfrom information import compute_entropy\n",
      "\tfrom information import __init__\n",
      "\tfrom information import compute_information_distance\n",
      "14 kernel_density\n",
      "\tfrom kernel_density import __init__\n",
      "\tfrom kernel_density import compute_bandwidths\n",
      "\tfrom kernel_density import estimate_kernel_density\n",
      "15 linear_algebra\n",
      "\tfrom linear_algebra import __init__\n",
      "\tfrom linear_algebra import solve_ax_equal_b\n",
      "16 linear_model\n",
      "\tfrom linear_model import __init__\n",
      "\tfrom linear_model import correlate\n",
      "17 match\n",
      "\tfrom match import _process_target_or_features_for_plotting\n",
      "\tfrom match import make_summary_match_panel\n",
      "\tfrom match import make_match_panels\n",
      "\tfrom match import _make_annotations\n",
      "\tfrom match import __init__\n",
      "\tfrom match import _check_features_index\n",
      "\tfrom match import make_match_panel\n",
      "\tfrom match import _match\n",
      "\tfrom match import make_comparison_panel\n",
      "18 matrix_factorization\n",
      "\tfrom matrix_factorization import solve_for_nmf_h\n",
      "\tfrom matrix_factorization import nmf\n",
      "\tfrom matrix_factorization import __init__\n",
      "19 mutational_signature\n",
      "\tfrom mutational_signature import loadmutsigs\n",
      "\tfrom mutational_signature import __init__\n",
      "\tfrom mutational_signature import mutational_signature\n"
     ]
    },
    {
     "ename": "ModuleNotFoundError",
     "evalue": "No module named 'pyfaidx'",
     "output_type": "error",
     "traceback": [
      "\u001b[0;31m---------------------------------------------------------------------------\u001b[0m",
      "\u001b[0;31mModuleNotFoundError\u001b[0m                       Traceback (most recent call last)",
      "\u001b[0;32m<ipython-input-4-b0ec83900bdb>\u001b[0m in \u001b[0;36m<module>\u001b[0;34m()\u001b[0m\n\u001b[1;32m     92\u001b[0m             \u001b[0mprint\u001b[0m\u001b[0;34m(\u001b[0m\u001b[0;34m'\\t'\u001b[0m \u001b[0;34m+\u001b[0m \u001b[0mcommand\u001b[0m\u001b[0;34m)\u001b[0m\u001b[0;34m\u001b[0m\u001b[0m\n\u001b[1;32m     93\u001b[0m \u001b[0;34m\u001b[0m\u001b[0m\n\u001b[0;32m---> 94\u001b[0;31m             \u001b[0mexec\u001b[0m\u001b[0;34m(\u001b[0m\u001b[0mcommand\u001b[0m\u001b[0;34m)\u001b[0m\u001b[0;34m\u001b[0m\u001b[0m\n\u001b[0m\u001b[1;32m     95\u001b[0m \u001b[0;34m\u001b[0m\u001b[0m\n\u001b[1;32m     96\u001b[0m     if repository_name not in (\n",
      "\u001b[0;32m<string>\u001b[0m in \u001b[0;36m<module>\u001b[0;34m()\u001b[0m\n",
      "\u001b[0;32m~/github_kwatme/library/mutational_signature/mutational_signature/mutational_signature.py\u001b[0m in \u001b[0;36m<module>\u001b[0;34m()\u001b[0m\n\u001b[1;32m      6\u001b[0m \u001b[0;32mfrom\u001b[0m \u001b[0mpandas\u001b[0m \u001b[0;32mimport\u001b[0m \u001b[0mDataFrame\u001b[0m\u001b[0;34m,\u001b[0m \u001b[0misna\u001b[0m\u001b[0;34m,\u001b[0m \u001b[0mread_table\u001b[0m\u001b[0;34m\u001b[0m\u001b[0m\n\u001b[1;32m      7\u001b[0m \u001b[0;34m\u001b[0m\u001b[0m\n\u001b[0;32m----> 8\u001b[0;31m \u001b[0;32mimport\u001b[0m \u001b[0mpyfaidx\u001b[0m\u001b[0;34m\u001b[0m\u001b[0m\n\u001b[0m\u001b[1;32m      9\u001b[0m \u001b[0;34m\u001b[0m\u001b[0m\n\u001b[1;32m     10\u001b[0m \u001b[0;32mfrom\u001b[0m \u001b[0;34m.\u001b[0m \u001b[0;32mimport\u001b[0m \u001b[0mloadmutsigs\u001b[0m\u001b[0;34m\u001b[0m\u001b[0m\n",
      "\u001b[0;31mModuleNotFoundError\u001b[0m: No module named 'pyfaidx'"
     ]
    }
   ],
   "source": [
    "for i, repository_name in enumerate(sorted(os.listdir(github_kwatme_library_directory_path))):\n",
    "    \n",
    "    print(\n",
    "        i,\n",
    "        repository_name,\n",
    "    )\n",
    "    \n",
    "    repository_path = '{}/{}'.format(\n",
    "        github_kwatme_library_directory_path,\n",
    "        repository_name,\n",
    "    )\n",
    "    \n",
    "    library_path = '{}/{}'.format(\n",
    "        repository_path,\n",
    "        repository_name,\n",
    "    )\n",
    "    \n",
    "    readme_file_path = '{}/README.md'.format(repository_path)\n",
    "    \n",
    "    license_file_path = '{}/LICENSE'.format(repository_path)\n",
    "    \n",
    "    gitignore_file_path = '{}/.gitignore'.format(repository_path)\n",
    "    \n",
    "    notebook_directory_path = '{}/notebook'.format(repository_path)\n",
    "    \n",
    "    notebook_file_path = '{}/{}.ipynb'.format(\n",
    "        notebook_directory_path,\n",
    "        repository_name,\n",
    "    )\n",
    "    \n",
    "    for path in (\n",
    "        library_path,\n",
    "        readme_file_path,\n",
    "        license_file_path,\n",
    "        gitignore_file_path,\n",
    "        notebook_directory_path,\n",
    "        notebook_file_path,\n",
    "    ):\n",
    "        \n",
    "        if not os.path.exists(path):\n",
    "\n",
    "            raise ValueError('{} does not exist.'.format(path))\n",
    "    \n",
    "    sys.path.insert(\n",
    "        0,\n",
    "        repository_path,\n",
    "    )\n",
    "    \n",
    "    with open(readme_file_path) as readme_file:\n",
    "        \n",
    "        title = repository_name.title().replace(\n",
    "            '_',\n",
    "            ' ',\n",
    "        ).replace(\n",
    "            '-',\n",
    "            ' ',\n",
    "        )\n",
    "\n",
    "        header_title = readme_file.readline().strip('# \\n').replace(\n",
    "            '_',\n",
    "            ' ',\n",
    "        ).replace(\n",
    "            '-',\n",
    "            ' ',\n",
    "        )\n",
    "\n",
    "        if title != header_title:\n",
    "\n",
    "            warnings.warn('{}: \\'{}\\' != \\'{}\\''.format(\n",
    "                readme_file_path,\n",
    "                title,\n",
    "                header_title,\n",
    "            ))\n",
    "\n",
    "            if title.lower() != header_title.lower():\n",
    "\n",
    "                raise ValueError('{}: \\'{}\\' != \\'{}\\''.format(\n",
    "                    readme_file_path,\n",
    "                    title.lower(),\n",
    "                    header_title.lower(),\n",
    "                ))\n",
    "\n",
    "    for name in os.listdir(library_path):\n",
    "\n",
    "        if name.endswith('.py'):\n",
    "\n",
    "            command = 'from {} import {}'.format(\n",
    "                repository_name,\n",
    "                name[:-3],\n",
    "            )\n",
    "\n",
    "            print('\\t' + command)\n",
    "\n",
    "            exec(command)\n",
    "    \n",
    "    if repository_name not in (\n",
    "        'spro',\n",
    "        'feature',\n",
    "        'genome',\n",
    "        'sequencing_process',\n",
    "        'variant',\n",
    "    ):\n",
    "        \n",
    "        subprocess.run(\n",
    "            'jupyter nbconvert --execute {} --inplace'.format(notebook_file_path),\n",
    "            shell=True,\n",
    "            check=True,\n",
    "        )\n",
    "\n",
    "    sys.path.pop(0)"
   ]
  }
 ],
 "metadata": {
  "kernelspec": {
   "display_name": "Python 3",
   "language": "python",
   "name": "python3"
  },
  "language_info": {
   "codemirror_mode": {
    "name": "ipython",
    "version": 3
   },
   "file_extension": ".py",
   "mimetype": "text/x-python",
   "name": "python",
   "nbconvert_exporter": "python",
   "pygments_lexer": "ipython3",
   "version": "3.6.5"
  }
 },
 "nbformat": 4,
 "nbformat_minor": 2
}
