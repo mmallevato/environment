{
 "cells": [
  {
   "cell_type": "code",
   "execution_count": 1,
   "metadata": {
    "ExecuteTime": {
     "end_time": "2018-05-15T09:08:37.815899Z",
     "start_time": "2018-05-15T09:08:33.021468Z"
    }
   },
   "outputs": [],
   "source": [
    "import os\n",
    "import subprocess\n",
    "import sys\n",
    "import warnings"
   ]
  },
  {
   "cell_type": "code",
   "execution_count": 2,
   "metadata": {
    "ExecuteTime": {
     "end_time": "2018-05-15T09:08:37.815899Z",
     "start_time": "2018-05-15T09:08:33.021468Z"
    }
   },
   "outputs": [],
   "source": [
    "github_kwatme_library_directory_path = \"../library\""
   ]
  },
  {
   "cell_type": "code",
   "execution_count": 3,
   "metadata": {
    "ExecuteTime": {
     "end_time": "2018-05-15T09:08:37.815899Z",
     "start_time": "2018-05-15T09:08:33.021468Z"
    }
   },
   "outputs": [
    {
     "name": "stdout",
     "output_type": "stream",
     "text": [
      "0 classification\n",
      "\tfrom classification import __init__\n",
      "\tfrom classification import train_and_classify\n",
      "1 clean_ipynb\n",
      "\tfrom clean_ipynb import clear_ipynb_output\n",
      "\tfrom clean_ipynb import __init__\n",
      "\tfrom clean_ipynb import command_line_interface\n",
      "\tfrom clean_ipynb import clean_python_code\n",
      "\tfrom clean_ipynb import clean_ipynb\n"
     ]
    },
    {
     "name": "stderr",
     "output_type": "stream",
     "text": [
      "/home/kwatme/miniconda3/lib/python3.6/site-packages/ipykernel_launcher.py:57: UserWarning: ../library/clean_ipynb/README.md: 'Clean Ipynb' != 'Clean .ipynb'\n"
     ]
    },
    {
     "name": "stdout",
     "output_type": "stream",
     "text": [
      "2 clustering\n",
      "\tfrom clustering import hierarchical_consensus_cluster_with_multiple_k\n",
      "\tfrom clustering import _count_coclustering_and_normalize\n",
      "\tfrom clustering import __init__\n",
      "\tfrom clustering import _compute_distance__column_x_column\n",
      "\tfrom clustering import nmf_consensus_cluster\n",
      "\tfrom clustering import hierarchical_consensus_cluster\n",
      "\tfrom clustering import _cluster_clustering_x_element_and_compute_ccc\n",
      "\tfrom clustering import nmf_consensus_cluster_with_multiple_k\n"
     ]
    },
    {
     "ename": "CalledProcessError",
     "evalue": "Command 'jupyter nbconvert --execute --ExecutePreprocessor.timeout=-1 --inplace ../library/clustering/notebook/clustering.ipynb' returned non-zero exit status 1.",
     "output_type": "error",
     "traceback": [
      "\u001b[0;31m---------------------------------------------------------------------------\u001b[0m",
      "\u001b[0;31mCalledProcessError\u001b[0m                        Traceback (most recent call last)",
      "\u001b[0;32m<ipython-input-3-cb46d8551c99>\u001b[0m in \u001b[0;36m<module>\u001b[0;34m\u001b[0m\n\u001b[1;32m     90\u001b[0m             ),\n\u001b[1;32m     91\u001b[0m             \u001b[0mshell\u001b[0m\u001b[0;34m=\u001b[0m\u001b[0;32mTrue\u001b[0m\u001b[0;34m,\u001b[0m\u001b[0;34m\u001b[0m\u001b[0;34m\u001b[0m\u001b[0m\n\u001b[0;32m---> 92\u001b[0;31m             \u001b[0mcheck\u001b[0m\u001b[0;34m=\u001b[0m\u001b[0;32mTrue\u001b[0m\u001b[0;34m,\u001b[0m\u001b[0;34m\u001b[0m\u001b[0;34m\u001b[0m\u001b[0m\n\u001b[0m\u001b[1;32m     93\u001b[0m         )\n\u001b[1;32m     94\u001b[0m \u001b[0;34m\u001b[0m\u001b[0m\n",
      "\u001b[0;32m~/miniconda3/lib/python3.6/subprocess.py\u001b[0m in \u001b[0;36mrun\u001b[0;34m(input, timeout, check, *popenargs, **kwargs)\u001b[0m\n\u001b[1;32m    416\u001b[0m         \u001b[0;32mif\u001b[0m \u001b[0mcheck\u001b[0m \u001b[0;32mand\u001b[0m \u001b[0mretcode\u001b[0m\u001b[0;34m:\u001b[0m\u001b[0;34m\u001b[0m\u001b[0;34m\u001b[0m\u001b[0m\n\u001b[1;32m    417\u001b[0m             raise CalledProcessError(retcode, process.args,\n\u001b[0;32m--> 418\u001b[0;31m                                      output=stdout, stderr=stderr)\n\u001b[0m\u001b[1;32m    419\u001b[0m     \u001b[0;32mreturn\u001b[0m \u001b[0mCompletedProcess\u001b[0m\u001b[0;34m(\u001b[0m\u001b[0mprocess\u001b[0m\u001b[0;34m.\u001b[0m\u001b[0margs\u001b[0m\u001b[0;34m,\u001b[0m \u001b[0mretcode\u001b[0m\u001b[0;34m,\u001b[0m \u001b[0mstdout\u001b[0m\u001b[0;34m,\u001b[0m \u001b[0mstderr\u001b[0m\u001b[0;34m)\u001b[0m\u001b[0;34m\u001b[0m\u001b[0;34m\u001b[0m\u001b[0m\n\u001b[1;32m    420\u001b[0m \u001b[0;34m\u001b[0m\u001b[0m\n",
      "\u001b[0;31mCalledProcessError\u001b[0m: Command 'jupyter nbconvert --execute --ExecutePreprocessor.timeout=-1 --inplace ../library/clustering/notebook/clustering.ipynb' returned non-zero exit status 1."
     ]
    }
   ],
   "source": [
    "for i, repository_name in enumerate(\n",
    "    sorted(os.listdir(github_kwatme_library_directory_path))\n",
    "):\n",
    "\n",
    "    print(i, repository_name)\n",
    "\n",
    "    repository_path = \"{}/{}\".format(\n",
    "        github_kwatme_library_directory_path, repository_name\n",
    "    )\n",
    "\n",
    "    library_path = \"{}/{}\".format(repository_path, repository_name)\n",
    "\n",
    "    readme_file_path = \"{}/README.md\".format(repository_path)\n",
    "\n",
    "    license_file_path = \"{}/LICENSE\".format(repository_path)\n",
    "\n",
    "    gitignore_file_path = \"{}/.gitignore\".format(repository_path)\n",
    "\n",
    "    notebook_directory_path = \"{}/notebook\".format(repository_path)\n",
    "\n",
    "    notebook_file_path = \"{}/{}.ipynb\".format(notebook_directory_path, repository_name)\n",
    "\n",
    "    for path in (\n",
    "        library_path,\n",
    "        readme_file_path,\n",
    "        license_file_path,\n",
    "        gitignore_file_path,\n",
    "        notebook_directory_path,\n",
    "        notebook_file_path,\n",
    "    ):\n",
    "\n",
    "        if not os.path.exists(path):\n",
    "\n",
    "            raise FileNotFoundError(path)\n",
    "\n",
    "    notebook_checkpoints_directory_path = \"{}/.ipynb_checkpoints\".format(\n",
    "        notebook_directory_path\n",
    "    )\n",
    "\n",
    "    if os.path.exists(notebook_checkpoints_directory_path):\n",
    "\n",
    "        raise FileExistsError(notebook_checkpoints_directory_path)\n",
    "\n",
    "    sys.path.insert(0, repository_path)\n",
    "\n",
    "    with open(readme_file_path) as readme_file:\n",
    "\n",
    "        title = repository_name.title().replace(\"_\", \" \").replace(\"-\", \" \")\n",
    "\n",
    "        header_title = (\n",
    "            readme_file.readline().strip(\"# \\n\").replace(\"_\", \" \").replace(\"-\", \" \")\n",
    "        )\n",
    "\n",
    "        if title != header_title:\n",
    "\n",
    "            warnings.warn(\n",
    "                \"{}: '{}' != '{}'\".format(readme_file_path, title, header_title)\n",
    "            )\n",
    "\n",
    "            if title.lower() != header_title.lower().replace(\".\", \"\"):\n",
    "\n",
    "                raise ValueError(\n",
    "                    \"{}: '{}' != '{}'\".format(\n",
    "                        readme_file_path,\n",
    "                        title.lower(),\n",
    "                        header_title.lower().replace(\".\", \"\"),\n",
    "                    )\n",
    "                )\n",
    "\n",
    "    for name in os.listdir(library_path):\n",
    "\n",
    "        if name.endswith(\".py\"):\n",
    "\n",
    "            command = \"from {} import {}\".format(repository_name, name[:-3])\n",
    "\n",
    "            print(\"\\t\" + command)\n",
    "\n",
    "            exec(command)\n",
    "\n",
    "    if repository_name not in (\n",
    "        \"feature\",\n",
    "        \"genome\",\n",
    "        \"sequencing_process\",\n",
    "        \"variant\",\n",
    "    ):\n",
    "\n",
    "        subprocess.run(\n",
    "            \"jupyter nbconvert --execute --ExecutePreprocessor.timeout=-1 --inplace {}\".format(\n",
    "                notebook_file_path\n",
    "            ),\n",
    "            shell=True,\n",
    "            check=True,\n",
    "        )\n",
    "\n",
    "        subprocess.run(\n",
    "            \"clean_ipynb {}\".format(notebook_file_path), shell=True, check=True\n",
    "        )\n",
    "\n",
    "    sys.path.pop(0)"
   ]
  }
 ],
 "metadata": {
  "kernelspec": {
   "display_name": "Python 3",
   "language": "python",
   "name": "python3"
  },
  "language_info": {
   "codemirror_mode": {
    "name": "ipython",
    "version": 3
   },
   "file_extension": ".py",
   "mimetype": "text/x-python",
   "name": "python",
   "nbconvert_exporter": "python",
   "pygments_lexer": "ipython3",
   "version": "3.6.7"
  }
 },
 "nbformat": 4,
 "nbformat_minor": 2
}
