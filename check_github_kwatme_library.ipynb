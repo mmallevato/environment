{
 "cells": [
  {
   "cell_type": "code",
   "execution_count": 1,
   "metadata": {
    "ExecuteTime": {
     "end_time": "2018-05-15T09:29:59.556206Z",
     "start_time": "2018-05-15T09:29:59.449974Z"
    }
   },
   "outputs": [],
   "source": [
    "%load_ext autoreload\n",
    "\n",
    "%autoreload 2"
   ]
  },
  {
   "cell_type": "code",
   "execution_count": 2,
   "metadata": {
    "ExecuteTime": {
     "end_time": "2018-05-15T09:08:33.008982Z",
     "start_time": "2018-05-15T09:08:33.002590Z"
    }
   },
   "outputs": [],
   "source": [
    "import importlib\n",
    "import os\n",
    "import subprocess\n",
    "import sys\n",
    "from warnings import warn"
   ]
  },
  {
   "cell_type": "code",
   "execution_count": 3,
   "metadata": {
    "ExecuteTime": {
     "end_time": "2018-05-15T09:08:33.017377Z",
     "start_time": "2018-05-15T09:08:33.012780Z"
    }
   },
   "outputs": [],
   "source": [
    "github_kwatme_library_directory_path = '../library'"
   ]
  },
  {
   "cell_type": "code",
   "execution_count": 4,
   "metadata": {
    "ExecuteTime": {
     "end_time": "2018-05-15T09:08:37.815899Z",
     "start_time": "2018-05-15T09:08:33.021468Z"
    },
    "scrolled": false
   },
   "outputs": [
    {
     "name": "stdout",
     "output_type": "stream",
     "text": [
      "classification\n",
      "1 classification\n",
      "\tfrom classification import __init__\n",
      "\tfrom classification import train_and_classify\n",
      "clustering\n",
      "2 clustering\n",
      "\tfrom clustering import hierarchical_consensus_cluster_with_multiple_k\n",
      "\tfrom clustering import _count_coclustering_and_normalize\n",
      "\tfrom clustering import nmf_consensus_cluster\n"
     ]
    },
    {
     "ename": "ModuleNotFoundError",
     "evalue": "No module named 'clustering.matrix_factorization'",
     "output_type": "error",
     "traceback": [
      "\u001b[0;31m---------------------------------------------------------------------------\u001b[0m",
      "\u001b[0;31mModuleNotFoundError\u001b[0m                       Traceback (most recent call last)",
      "\u001b[0;32m<ipython-input-4-294a27fae266>\u001b[0m in \u001b[0;36m<module>\u001b[0;34m()\u001b[0m\n\u001b[1;32m     91\u001b[0m             \u001b[0mprint\u001b[0m\u001b[0;34m(\u001b[0m\u001b[0;34m'\\t'\u001b[0m \u001b[0;34m+\u001b[0m \u001b[0mcommand\u001b[0m\u001b[0;34m)\u001b[0m\u001b[0;34m\u001b[0m\u001b[0m\n\u001b[1;32m     92\u001b[0m \u001b[0;34m\u001b[0m\u001b[0m\n\u001b[0;32m---> 93\u001b[0;31m             \u001b[0mexec\u001b[0m\u001b[0;34m(\u001b[0m\u001b[0mcommand\u001b[0m\u001b[0;34m)\u001b[0m\u001b[0;34m\u001b[0m\u001b[0m\n\u001b[0m\u001b[1;32m     94\u001b[0m \u001b[0;34m\u001b[0m\u001b[0m\n\u001b[1;32m     95\u001b[0m     \u001b[0msys\u001b[0m\u001b[0;34m.\u001b[0m\u001b[0mpath\u001b[0m\u001b[0;34m.\u001b[0m\u001b[0mpop\u001b[0m\u001b[0;34m(\u001b[0m\u001b[0;36m0\u001b[0m\u001b[0;34m)\u001b[0m\u001b[0;34m\u001b[0m\u001b[0m\n",
      "\u001b[0;32m<string>\u001b[0m in \u001b[0;36m<module>\u001b[0;34m()\u001b[0m\n",
      "\u001b[0;32m~/github_kwatme/library/clustering/clustering/nmf_consensus_cluster.py\u001b[0m in \u001b[0;36m<module>\u001b[0;34m()\u001b[0m\n\u001b[1;32m      6\u001b[0m \u001b[0;32mfrom\u001b[0m \u001b[0;34m.\u001b[0m\u001b[0m_count_coclustering_and_normalize\u001b[0m \u001b[0;32mimport\u001b[0m\u001b[0;31m \u001b[0m\u001b[0;31m\\\u001b[0m\u001b[0;34m\u001b[0m\u001b[0m\n\u001b[1;32m      7\u001b[0m     \u001b[0m_count_coclustering_and_normalize\u001b[0m\u001b[0;34m\u001b[0m\u001b[0m\n\u001b[0;32m----> 8\u001b[0;31m \u001b[0;32mfrom\u001b[0m \u001b[0;34m.\u001b[0m\u001b[0mmatrix_factorization\u001b[0m\u001b[0;34m.\u001b[0m\u001b[0mmatrix_factorization\u001b[0m\u001b[0;34m.\u001b[0m\u001b[0mnmf\u001b[0m \u001b[0;32mimport\u001b[0m \u001b[0mnmf\u001b[0m\u001b[0;34m\u001b[0m\u001b[0m\n\u001b[0m\u001b[1;32m      9\u001b[0m \u001b[0;32mfrom\u001b[0m \u001b[0;34m.\u001b[0m\u001b[0mplot\u001b[0m\u001b[0;34m.\u001b[0m\u001b[0mplot\u001b[0m\u001b[0;34m.\u001b[0m\u001b[0mmake_html_and_plotly_file_paths\u001b[0m \u001b[0;32mimport\u001b[0m\u001b[0;31m \u001b[0m\u001b[0;31m\\\u001b[0m\u001b[0;34m\u001b[0m\u001b[0m\n\u001b[1;32m     10\u001b[0m     \u001b[0mmake_html_and_plotly_file_paths\u001b[0m\u001b[0;34m\u001b[0m\u001b[0m\n",
      "\u001b[0;31mModuleNotFoundError\u001b[0m: No module named 'clustering.matrix_factorization'"
     ]
    }
   ],
   "source": [
    "n = 0\n",
    "\n",
    "for name in sorted(os.listdir(github_kwatme_library_directory_path)):\n",
    "    \n",
    "    if name in (\n",
    "        '.DS_Store',\n",
    "    ):\n",
    "\n",
    "        continue\n",
    "\n",
    "    n += 1\n",
    "\n",
    "    print(\n",
    "        n,\n",
    "        name,\n",
    "    )\n",
    "\n",
    "    sys.path.insert(\n",
    "        0,\n",
    "        '{}/{}'.format(\n",
    "            github_kwatme_library_directory_path,\n",
    "            name,\n",
    "        ),\n",
    "    )\n",
    "\n",
    "    readme_file_path = '{}/{}/README.md'.format(\n",
    "        github_kwatme_library_directory_path,\n",
    "        name,\n",
    "    )\n",
    "\n",
    "    with open(readme_file_path) as readme_file:\n",
    "\n",
    "        header_title = readme_file.readline().strip()[2:]\n",
    "\n",
    "        title = name.title().replace(\n",
    "            '_',\n",
    "            ' ',\n",
    "        )\n",
    "\n",
    "        if header_title != title:\n",
    "\n",
    "            warn('{}: {} != {}'.format(\n",
    "                readme_file_path,\n",
    "                header_title,\n",
    "                title,\n",
    "            ))\n",
    "\n",
    "            if header_title.lower() != title.lower():\n",
    "\n",
    "                raise ValueError('{}: {} != {}'.format(\n",
    "                    readme_file_path,\n",
    "                    header_title.lower(),\n",
    "                    title.lower(),\n",
    "                ))\n",
    "\n",
    "    notebook_directory_path = '{}/{}/notebook'.format(\n",
    "        github_kwatme_library_directory_path,\n",
    "        name,\n",
    "        'notebook',\n",
    "    )\n",
    "\n",
    "    if os.path.isdir(notebook_directory_path):\n",
    "\n",
    "        notebook_file_path = '{}/{}.ipynb'.format(\n",
    "            notebook_directory_path,\n",
    "            name,\n",
    "        )\n",
    "\n",
    "        if not os.path.isfile(notebook_file_path):\n",
    "\n",
    "            print('{} doesn\\'t exist.'.format(notebook_file_path))\n",
    "\n",
    "    else:\n",
    "\n",
    "        print('\\t{} doesn\\'t exist.'.format(notebook_directory_path))\n",
    "\n",
    "    for file_name in os.listdir('{0}/{1}/{1}'.format(\n",
    "        github_kwatme_library_directory_path,\n",
    "        name,\n",
    "    )):\n",
    "\n",
    "        if file_name.endswith('.py'):\n",
    "\n",
    "            command = 'from {} import {}'.format(\n",
    "                name,\n",
    "                file_name[:-3],\n",
    "            )\n",
    "\n",
    "            print('\\t' + command)\n",
    "\n",
    "            exec(command)\n",
    "\n",
    "    sys.path.pop(0)"
   ]
  }
 ],
 "metadata": {
  "kernelspec": {
   "display_name": "Python 3",
   "language": "python",
   "name": "python3"
  },
  "language_info": {
   "codemirror_mode": {
    "name": "ipython",
    "version": 3
   },
   "file_extension": ".py",
   "mimetype": "text/x-python",
   "name": "python",
   "nbconvert_exporter": "python",
   "pygments_lexer": "ipython3",
   "version": "3.6.5"
  }
 },
 "nbformat": 4,
 "nbformat_minor": 2
}
