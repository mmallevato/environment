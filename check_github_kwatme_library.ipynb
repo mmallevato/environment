{
 "cells": [
  {
   "cell_type": "code",
   "execution_count": 1,
   "metadata": {
    "ExecuteTime": {
     "end_time": "2018-05-15T09:29:59.556206Z",
     "start_time": "2018-05-15T09:29:59.449974Z"
    }
   },
   "outputs": [],
   "source": [
    "%load_ext autoreload\n",
    "\n",
    "%autoreload 2"
   ]
  },
  {
   "cell_type": "code",
   "execution_count": 2,
   "metadata": {
    "ExecuteTime": {
     "end_time": "2018-05-15T09:08:33.008982Z",
     "start_time": "2018-05-15T09:08:33.002590Z"
    }
   },
   "outputs": [],
   "source": [
    "import os\n",
    "import subprocess\n",
    "import sys\n",
    "import warnings"
   ]
  },
  {
   "cell_type": "code",
   "execution_count": 3,
   "metadata": {
    "ExecuteTime": {
     "end_time": "2018-05-15T09:08:33.017377Z",
     "start_time": "2018-05-15T09:08:33.012780Z"
    }
   },
   "outputs": [],
   "source": [
    "github_kwatme_library_directory_path = '../library'"
   ]
  },
  {
   "cell_type": "code",
   "execution_count": 4,
   "metadata": {
    "ExecuteTime": {
     "end_time": "2018-05-15T09:08:37.815899Z",
     "start_time": "2018-05-15T09:08:33.021468Z"
    },
    "scrolled": false
   },
   "outputs": [
    {
     "name": "stdout",
     "output_type": "stream",
     "text": [
      "0 classification\n",
      "\tfrom classification import __init__\n",
      "\tfrom classification import train_and_classify\n",
      "1 clustering\n",
      "\tfrom clustering import hierarchical_consensus_cluster_with_multiple_k\n",
      "\tfrom clustering import _count_coclustering_and_normalize\n",
      "\tfrom clustering import nmf_consensus_cluster\n",
      "\tfrom clustering import nmf_consensus_cluster_with_multiple_k\n",
      "\tfrom clustering import __init__\n",
      "\tfrom clustering import hierarchical_consensus_cluster\n",
      "2 context\n",
      "\tfrom context import make_context_matrix\n",
      "\tfrom context import plot_context\n",
      "\tfrom context import __init__\n",
      "\tfrom context import fit_skew_t_pdf\n",
      "\tfrom context import compute_context\n",
      "\tfrom context import fit_skew_t_pdfs\n",
      "3 cross_validation\n",
      "\tfrom cross_validation import cross_validate\n",
      "\tfrom cross_validation import __init__\n",
      "4 dimension_scaling\n",
      "\tfrom dimension_scaling import __init__\n",
      "\tfrom dimension_scaling import mds\n",
      "5 feature\n",
      "\tfrom feature import get_gff3_attribute\n",
      "\tfrom feature import __init__\n",
      "\tfrom feature import read_gff3_gz\n",
      "\tfrom feature import FeatureHDF5\n",
      "\tfrom feature import index_gff3_df_by_name\n",
      "6 feature_x_sample\n",
      "\tfrom feature_x_sample import summarize_feature_x_sample\n",
      "\tfrom feature_x_sample import __init__\n",
      "\tfrom feature_x_sample import read_and_process_feature_x_sample\n"
     ]
    },
    {
     "name": "stderr",
     "output_type": "stream",
     "text": [
      "/home/kwatme/miniconda3/lib/python3.6/site-packages/ipykernel_launcher.py:82: UserWarning:\n",
      "\n",
      "../library/feature_x_sample/README.md: 'Feature X Sample' != 'Feature x Sample'\n",
      "\n"
     ]
    },
    {
     "name": "stdout",
     "output_type": "stream",
     "text": [
      "7 gct_gmt\n",
      "\tfrom gct_gmt import access_gmt\n",
      "\tfrom gct_gmt import __init__\n",
      "\tfrom gct_gmt import access_gct\n"
     ]
    },
    {
     "name": "stderr",
     "output_type": "stream",
     "text": [
      "/home/kwatme/miniconda3/lib/python3.6/site-packages/ipykernel_launcher.py:82: UserWarning:\n",
      "\n",
      "../library/gct_gmt/README.md: 'Gct Gmt' != 'GCT GMT'\n",
      "\n"
     ]
    },
    {
     "name": "stdout",
     "output_type": "stream",
     "text": [
      "8 genome\n",
      "\tfrom genome import Genome\n",
      "\tfrom genome import __init__\n",
      "9 geo\n",
      "\tfrom geo import __init__\n",
      "\tfrom geo import download_and_parse_geo_data\n"
     ]
    },
    {
     "name": "stderr",
     "output_type": "stream",
     "text": [
      "/home/kwatme/miniconda3/lib/python3.6/site-packages/ipykernel_launcher.py:82: UserWarning:\n",
      "\n",
      "../library/geo/README.md: 'Geo' != 'GEO'\n",
      "\n"
     ]
    },
    {
     "name": "stdout",
     "output_type": "stream",
     "text": [
      "10 gps_map\n",
      "\tfrom gps_map import _anneal_node_and_element_positions\n",
      "\tfrom gps_map import _get_triangulation_edges\n",
      "\tfrom gps_map import access_gps_map\n",
      "\tfrom gps_map import _plot_gps_map\n",
      "\tfrom gps_map import __init__\n",
      "\tfrom gps_map import GPSMap\n"
     ]
    },
    {
     "name": "stderr",
     "output_type": "stream",
     "text": [
      "/home/kwatme/miniconda3/lib/python3.6/site-packages/ipykernel_launcher.py:82: UserWarning:\n",
      "\n",
      "../library/gps_map/README.md: 'Gps Map' != 'GPS Map'\n",
      "\n"
     ]
    },
    {
     "name": "stdout",
     "output_type": "stream",
     "text": [
      "11 gsea\n",
      "\tfrom gsea import gsea\n",
      "\tfrom gsea import single_sample_gsea\n",
      "\tfrom gsea import __init__\n",
      "\tfrom gsea import _plot_mountain_plot\n",
      "\tfrom gsea import single_sample_gseas\n"
     ]
    },
    {
     "name": "stderr",
     "output_type": "stream",
     "text": [
      "/home/kwatme/miniconda3/lib/python3.6/site-packages/ipykernel_launcher.py:82: UserWarning:\n",
      "\n",
      "../library/gsea/README.md: 'Gsea' != 'GSEA'\n",
      "\n"
     ]
    },
    {
     "name": "stdout",
     "output_type": "stream",
     "text": [
      "12 hdf5\n",
      "\tfrom hdf5 import read_where_and_map_column_names\n",
      "\tfrom hdf5 import __init__\n"
     ]
    },
    {
     "name": "stderr",
     "output_type": "stream",
     "text": [
      "/home/kwatme/miniconda3/lib/python3.6/site-packages/ipykernel_launcher.py:82: UserWarning:\n",
      "\n",
      "../library/hdf5/README.md: 'Hdf5' != 'HDF5'\n",
      "\n"
     ]
    },
    {
     "name": "stdout",
     "output_type": "stream",
     "text": [
      "13 information\n",
      "\tfrom information import compute_information_coefficient\n",
      "\tfrom information import compute_entropy\n",
      "\tfrom information import __init__\n",
      "\tfrom information import compute_information_distance\n",
      "14 kernel_density\n",
      "\tfrom kernel_density import __init__\n",
      "\tfrom kernel_density import compute_bandwidths\n",
      "\tfrom kernel_density import estimate_kernel_density\n",
      "15 linear_algebra\n",
      "\tfrom linear_algebra import __init__\n",
      "\tfrom linear_algebra import solve_ax_equal_b\n",
      "16 linear_model\n",
      "\tfrom linear_model import __init__\n",
      "\tfrom linear_model import correlate\n",
      "17 match\n",
      "\tfrom match import _process_target_or_features_for_plotting\n",
      "\tfrom match import make_summary_match_panel\n",
      "\tfrom match import make_match_panels\n",
      "\tfrom match import _make_annotations\n",
      "\tfrom match import __init__\n",
      "\tfrom match import _check_features_index\n",
      "\tfrom match import make_match_panel\n",
      "\tfrom match import _match\n",
      "\tfrom match import make_comparison_panel\n",
      "18 matrix_factorization\n",
      "\tfrom matrix_factorization import solve_for_nmf_h\n",
      "\tfrom matrix_factorization import nmf\n",
      "\tfrom matrix_factorization import __init__\n",
      "19 mutational_signature\n",
      "\tfrom mutational_signature import _count\n",
      "\tfrom mutational_signature import __init__\n",
      "\tfrom mutational_signature import _identify_what_to_count\n",
      "\tfrom mutational_signature import mutational_signature\n",
      "\tfrom mutational_signature import normalize_contig\n",
      "20 nd_array\n",
      "\tfrom nd_array import compute_empirical_p_values_and_fdrs\n",
      "\tfrom nd_array import nd_array_is_sorted\n",
      "\tfrom nd_array import clip_nd_array_by_standard_deviation\n",
      "\tfrom nd_array import get_1d_array_unique_objects_in_order\n",
      "\tfrom nd_array import cluster_2d_array_slices_by_group\n",
      "\tfrom nd_array import cluster_1d_arrays\n",
      "\tfrom nd_array import apply_function_on_2_2d_arrays_slices\n",
      "\tfrom nd_array import check_nd_array_for_bad_value\n",
      "\tfrom nd_array import normalize_nd_array\n",
      "\tfrom nd_array import get_coordinates_for_reflection\n",
      "\tfrom nd_array import drop_bad_value_and_apply_function_on_2_1d_arrays\n",
      "\tfrom nd_array import apply_function_on_2_1d_arrays_and_compute_empirical_p_value\n",
      "\tfrom nd_array import __init__\n",
      "\tfrom nd_array import compute_nd_array_margin_of_error\n",
      "\tfrom nd_array import compute_log_ratio_between_2_1d_arrays\n",
      "\tfrom nd_array import compute_empirical_p_value\n",
      "\tfrom nd_array import make_nd_grid_coordinates\n",
      "\tfrom nd_array import shuffle_each_2d_array_slice\n",
      "\tfrom nd_array import get_intersections_between_2_1d_arrays\n",
      "\tfrom nd_array import log_nd_array\n"
     ]
    },
    {
     "name": "stderr",
     "output_type": "stream",
     "text": [
      "/home/kwatme/miniconda3/lib/python3.6/site-packages/ipykernel_launcher.py:82: UserWarning:\n",
      "\n",
      "../library/nd_array/README.md: 'Nd Array' != 'ND Array'\n",
      "\n"
     ]
    },
    {
     "name": "stdout",
     "output_type": "stream",
     "text": [
      "21 neural_network\n",
      "\tfrom neural_network import __init__\n",
      "22 plot\n",
      "\tfrom plot import plot_and_save\n",
      "\tfrom plot import make_random_color\n",
      "\tfrom plot import plot_bubble_map\n",
      "\tfrom plot import make_colorscale\n",
      "\tfrom plot import plot_pie\n",
      "\tfrom plot import plot_table\n",
      "\tfrom plot import __init__\n",
      "\tfrom plot import plot_heat_map\n",
      "\tfrom plot import plot_points\n",
      "\tfrom plot import plot_distributions\n",
      "\tfrom plot import plot_bar\n",
      "\tfrom plot import make_html_and_plotly_file_paths\n",
      "\tfrom plot import plot_box_or_violin\n",
      "\tfrom plot import plot_color_text\n",
      "\tfrom plot import style\n",
      "23 probability\n",
      "\tfrom probability import infer_assuming_independence\n",
      "\tfrom probability import infer\n",
      "\tfrom probability import __init__\n",
      "\tfrom probability import plot_bayesian_nomogram\n",
      "\tfrom probability import compute_posterior_probability\n",
      "\tfrom probability import compute_joint_probability\n",
      "\tfrom probability import _plot_2d\n",
      "\tfrom probability import _get_target_grid_indices\n",
      "24 regression\n",
      "\tfrom regression import train_and_regress\n",
      "\tfrom regression import __init__\n",
      "25 sequence\n",
      "\tfrom sequence import get_sequence_from_fasta_gz\n",
      "\tfrom sequence import process_sequence\n",
      "\tfrom sequence import __init__\n",
      "\tfrom sequence import establish_fai_index\n",
      "\tfrom sequence import get_chromosome_size_from_fasta_gz\n",
      "26 sequencing_process\n",
      "\tfrom sequencing_process import simulate_sequences_using_dwgsim\n",
      "\tfrom sequencing_process import bgzip_and_tabix\n",
      "\tfrom sequencing_process import process_fasta\n",
      "\tfrom sequencing_process import process_fastq_gz\n",
      "\tfrom sequencing_process import download_clinvar_vcf_gz\n",
      "\tfrom sequencing_process import __init__\n",
      "\tfrom sequencing_process import process_vcf_gz\n",
      "\tfrom sequencing_process import make_reference_genome\n",
      "\tfrom sequencing_process import process_bam\n",
      "\tfrom sequencing_process import _print_and_run_command\n",
      "27 spro\n",
      "\tfrom spro import download\n",
      "\tfrom spro import get\n",
      "\tfrom spro import create\n",
      "\tfrom spro import share\n",
      "\tfrom spro import install\n",
      "\tfrom spro import __init__\n",
      "\tfrom spro import uninstall\n",
      "\tfrom spro import list_\n",
      "\tfrom spro import enter\n",
      "\tfrom spro import run\n",
      "28 support\n",
      "\tfrom support import str_\n",
      "\tfrom support import multiprocess\n",
      "\tfrom support import git\n",
      "\tfrom support import compression\n",
      "\tfrom support import get_function_name\n",
      "\tfrom support import df\n",
      "\tfrom support import network\n",
      "\tfrom support import json_\n",
      "\tfrom support import series\n",
      "\tfrom support import conda\n",
      "\tfrom support import dict_\n",
      "\tfrom support import subprocess_\n",
      "\tfrom support import __init__\n",
      "\tfrom support import exit_\n",
      "\tfrom support import path\n",
      "\tfrom support import volume\n",
      "\tfrom support import math\n",
      "\tfrom support import iterable\n",
      "\tfrom support import log\n",
      "\tfrom support import python\n",
      "\tfrom support import machine\n"
     ]
    },
    {
     "name": "stderr",
     "output_type": "stream",
     "text": [
      "/home/kwatme/miniconda3/lib/python3.6/site-packages/ipykernel_launcher.py:82: UserWarning:\n",
      "\n",
      "../library/spro/README.md: 'Spro' != 'SPro'\n",
      "\n"
     ]
    },
    {
     "name": "stdout",
     "output_type": "stream",
     "text": [
      "29 tcga\n",
      "\tfrom tcga import read_copynumber_gistic2\n",
      "\tfrom tcga import read_mutsignozzlereport2cv\n",
      "\tfrom tcga import read_correlate_copynumber_vs_mrnaseq\n",
      "\tfrom tcga import make_case_annotations\n",
      "\tfrom tcga import __init__\n"
     ]
    },
    {
     "name": "stderr",
     "output_type": "stream",
     "text": [
      "/home/kwatme/miniconda3/lib/python3.6/site-packages/ipykernel_launcher.py:82: UserWarning:\n",
      "\n",
      "../library/tcga/README.md: 'Tcga' != 'TCGA'\n",
      "\n"
     ]
    },
    {
     "name": "stdout",
     "output_type": "stream",
     "text": [
      "30 variant\n",
      "\tfrom variant import access_maf\n",
      "\tfrom variant import __init__\n",
      "\tfrom variant import VariantHDF5\n",
      "\tfrom variant import access_vcf\n",
      "\tfrom variant import access_vcf_dict\n"
     ]
    }
   ],
   "source": [
    "for i, repository_name in enumerate(sorted(os.listdir(github_kwatme_library_directory_path))):\n",
    "    \n",
    "    print(\n",
    "        i,\n",
    "        repository_name,\n",
    "    )\n",
    "    \n",
    "    repository_path = '{}/{}'.format(\n",
    "        github_kwatme_library_directory_path,\n",
    "        repository_name,\n",
    "    )\n",
    "    \n",
    "    library_path = '{}/{}'.format(\n",
    "        repository_path,\n",
    "        repository_name,\n",
    "    )\n",
    "    \n",
    "    readme_file_path = '{}/README.md'.format(repository_path)\n",
    "    \n",
    "    license_file_path = '{}/LICENSE'.format(repository_path)\n",
    "    \n",
    "    gitignore_file_path = '{}/.gitignore'.format(repository_path)\n",
    "    \n",
    "    notebook_directory_path = '{}/notebook'.format(repository_path)\n",
    "    \n",
    "    notebook_file_path = '{}/{}.ipynb'.format(\n",
    "        notebook_directory_path,\n",
    "        repository_name,\n",
    "    )\n",
    "    \n",
    "    for path in (\n",
    "        library_path,\n",
    "        readme_file_path,\n",
    "        license_file_path,\n",
    "        gitignore_file_path,\n",
    "        notebook_directory_path,\n",
    "        notebook_file_path,\n",
    "    ):\n",
    "        \n",
    "        if not os.path.exists(path):\n",
    "\n",
    "            raise FileNotFoundError(path)\n",
    "            \n",
    "    notebook_checkpoints_directory_path = '{}/.ipynb_checkpoints'.format(notebook_directory_path)\n",
    "            \n",
    "    if os.path.exists(notebook_checkpoints_directory_path):\n",
    "\n",
    "        raise FileExistsError(notebook_checkpoints_directory_path)\n",
    "    \n",
    "    sys.path.insert(\n",
    "        0,\n",
    "        repository_path,\n",
    "    )\n",
    "    \n",
    "    with open(readme_file_path) as readme_file:\n",
    "        \n",
    "        title = repository_name.title().replace(\n",
    "            '_',\n",
    "            ' ',\n",
    "        ).replace(\n",
    "            '-',\n",
    "            ' ',\n",
    "        )\n",
    "\n",
    "        header_title = readme_file.readline().strip('# \\n').replace(\n",
    "            '_',\n",
    "            ' ',\n",
    "        ).replace(\n",
    "            '-',\n",
    "            ' ',\n",
    "        )\n",
    "\n",
    "        if title != header_title:\n",
    "\n",
    "            warnings.warn('{}: \\'{}\\' != \\'{}\\''.format(\n",
    "                readme_file_path,\n",
    "                title,\n",
    "                header_title,\n",
    "            ))\n",
    "\n",
    "            if title.lower() != header_title.lower():\n",
    "\n",
    "                raise ValueError('{}: \\'{}\\' != \\'{}\\''.format(\n",
    "                    readme_file_path,\n",
    "                    title.lower(),\n",
    "                    header_title.lower(),\n",
    "                ))\n",
    "\n",
    "    for name in os.listdir(library_path):\n",
    "\n",
    "        if name.endswith('.py'):\n",
    "\n",
    "            command = 'from {} import {}'.format(\n",
    "                repository_name,\n",
    "                name[:-3],\n",
    "            )\n",
    "\n",
    "            print('\\t' + command)\n",
    "\n",
    "            exec(command)\n",
    "    \n",
    "    if repository_name not in (\n",
    "        'spro',\n",
    "        'feature',\n",
    "        'genome',\n",
    "        'sequencing_process',\n",
    "        'variant',\n",
    "    ):\n",
    "        \n",
    "        subprocess.run(\n",
    "            'jupyter nbconvert --execute --inplace {}'.format(notebook_file_path),\n",
    "            shell=True,\n",
    "            check=True,\n",
    "        )\n",
    "        \n",
    "        subprocess.run(\n",
    "            'jupyter nbconvert --ClearOutputPreprocessor.enabled=True --inplace {}'.format(notebook_file_path),\n",
    "            shell=True,\n",
    "            check=True,\n",
    "        )\n",
    "\n",
    "    sys.path.pop(0)"
   ]
  }
 ],
 "metadata": {
  "kernelspec": {
   "display_name": "Python 3",
   "language": "python",
   "name": "python3"
  },
  "language_info": {
   "codemirror_mode": {
    "name": "ipython",
    "version": 3
   },
   "file_extension": ".py",
   "mimetype": "text/x-python",
   "name": "python",
   "nbconvert_exporter": "python",
   "pygments_lexer": "ipython3",
   "version": "3.6.5"
  }
 },
 "nbformat": 4,
 "nbformat_minor": 2
}
