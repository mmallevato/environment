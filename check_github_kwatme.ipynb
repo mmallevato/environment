{
 "cells": [
  {
   "cell_type": "code",
   "execution_count": null,
   "metadata": {
    "ExecuteTime": {
     "end_time": "2018-05-07T00:33:24.028513Z",
     "start_time": "2018-05-07T00:33:24.020114Z"
    }
   },
   "outputs": [],
   "source": [
    "import importlib\n",
    "import os\n",
    "import subprocess\n",
    "import sys\n",
    "from warnings import warn"
   ]
  },
  {
   "cell_type": "code",
   "execution_count": null,
   "metadata": {
    "ExecuteTime": {
     "end_time": "2018-05-07T00:33:24.038197Z",
     "start_time": "2018-05-07T00:33:24.032450Z"
    }
   },
   "outputs": [],
   "source": [
    "github_kwatme_directory_path = '..'"
   ]
  },
  {
   "cell_type": "code",
   "execution_count": null,
   "metadata": {
    "ExecuteTime": {
     "end_time": "2018-05-07T00:33:25.338955Z",
     "start_time": "2018-05-07T00:33:24.041556Z"
    },
    "scrolled": false
   },
   "outputs": [],
   "source": [
    "n = 0\n",
    "\n",
    "for name in sorted(os.listdir(github_kwatme_directory_path)):\n",
    "\n",
    "    if name in ('.DS_Store', '.idea', '.ipynb_checkpoints', 'environment',\n",
    "                'jupyter_gui', 'kwatme.com'):\n",
    "\n",
    "        continue\n",
    "\n",
    "    n += 1\n",
    "\n",
    "    print('{} {}'.format(n, name))\n",
    "\n",
    "    sys.path.insert(0, os.path.join(github_kwatme_directory_path, name))\n",
    "\n",
    "    readme_file_path = os.path.join(github_kwatme_directory_path, name,\n",
    "                                    'README.md')\n",
    "\n",
    "    with open(readme_file_path) as file:\n",
    "\n",
    "        header_title = file.readline().strip()[2:]\n",
    "\n",
    "        title = name.title().replace('_', ' ')\n",
    "\n",
    "        if header_title != title:\n",
    "\n",
    "            warn('{}: {} != {}'.format(readme_file_path, header_title, title))\n",
    "\n",
    "            if header_title.lower() != title.lower():\n",
    "\n",
    "                raise ValueError('{}: {} != {}'.format(readme_file_path,\n",
    "                                                       header_title.lower(),\n",
    "                                                       title.lower()))\n",
    "\n",
    "    notebook_directory_path = os.path.join(github_kwatme_directory_path, name,\n",
    "                                           'notebook')\n",
    "\n",
    "    if os.path.isdir(notebook_directory_path):\n",
    "\n",
    "        notebook_file_path = os.path.join(notebook_directory_path,\n",
    "                                          name + '.ipynb')\n",
    "\n",
    "        if os.path.isfile(notebook_file_path):\n",
    "\n",
    "            print('\\t{}'.format(\n",
    "                notebook_file_path.replace(\n",
    "                    '..',\n",
    "                    'http://localhost:1111/notebooks/Jumis/github_kwatme')))\n",
    "\n",
    "        else:\n",
    "\n",
    "            print('{} doesn\\'t exist.'.format(notebook_file_path))\n",
    "\n",
    "    else:\n",
    "\n",
    "        print('\\t{} doesn\\'t exist.'.format(notebook_directory_path))\n",
    "\n",
    "    for file_name in os.listdir(\n",
    "            os.path.join(github_kwatme_directory_path, name, name)):\n",
    "\n",
    "        if file_name.endswith('.py'):\n",
    "\n",
    "            command = 'from {} import {}'.format(name, file_name[:-3])\n",
    "\n",
    "            print('\\t' + command)\n",
    "\n",
    "            exec(command)\n",
    "\n",
    "    sys.path.pop(0)"
   ]
  }
 ],
 "metadata": {
  "kernelspec": {
   "display_name": "Python 3",
   "language": "python",
   "name": "python3"
  },
  "language_info": {
   "codemirror_mode": {
    "name": "ipython",
    "version": 3
   },
   "file_extension": ".py",
   "mimetype": "text/x-python",
   "name": "python",
   "nbconvert_exporter": "python",
   "pygments_lexer": "ipython3",
   "version": "3.6.5"
  }
 },
 "nbformat": 4,
 "nbformat_minor": 2
}
