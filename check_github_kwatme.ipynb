{
 "cells": [
  {
   "cell_type": "code",
   "execution_count": null,
   "metadata": {
    "ExecuteTime": {
     "end_time": "2018-05-15T09:29:59.556206Z",
     "start_time": "2018-05-15T09:29:59.449974Z"
    }
   },
   "outputs": [],
   "source": [
    "%load_ext autoreload\n",
    "\n",
    "%autoreload 2"
   ]
  },
  {
   "cell_type": "code",
   "execution_count": null,
   "metadata": {
    "ExecuteTime": {
     "end_time": "2018-05-15T09:08:33.008982Z",
     "start_time": "2018-05-15T09:08:33.002590Z"
    }
   },
   "outputs": [],
   "source": [
    "import importlib\n",
    "import os\n",
    "import subprocess\n",
    "import sys\n",
    "from warnings import warn"
   ]
  },
  {
   "cell_type": "code",
   "execution_count": null,
   "metadata": {
    "ExecuteTime": {
     "end_time": "2018-05-15T09:08:33.017377Z",
     "start_time": "2018-05-15T09:08:33.012780Z"
    }
   },
   "outputs": [],
   "source": [
    "github_kwatme_directory_path = '..'"
   ]
  },
  {
   "cell_type": "code",
   "execution_count": null,
   "metadata": {
    "ExecuteTime": {
     "end_time": "2018-05-15T09:08:37.815899Z",
     "start_time": "2018-05-15T09:08:33.021468Z"
    },
    "scrolled": false
   },
   "outputs": [],
   "source": [
    "n = 0\n",
    "\n",
    "for name in sorted(os.listdir(github_kwatme_directory_path)):\n",
    "\n",
    "    if name in (\n",
    "        '.DS_Store',\n",
    "        '.idea',\n",
    "        '.ipynb_checkpoints',\n",
    "        'environment',\n",
    "        'jupyter_gui',\n",
    "        'kwatme.com',\n",
    "    ):\n",
    "\n",
    "        continue\n",
    "\n",
    "    n += 1\n",
    "\n",
    "    print(\n",
    "        n,\n",
    "        name,\n",
    "    )\n",
    "\n",
    "    sys.path.insert(\n",
    "        0,\n",
    "        os.path.join(\n",
    "            github_kwatme_directory_path,\n",
    "            name,\n",
    "        ),\n",
    "    )\n",
    "\n",
    "    readme_file_path = os.path.join(\n",
    "        github_kwatme_directory_path,\n",
    "        name,\n",
    "        'README.md',\n",
    "    )\n",
    "\n",
    "    with open(readme_file_path) as readme_file:\n",
    "\n",
    "        header_title = readme_file.readline().strip()[2:]\n",
    "\n",
    "        title = name.title().replace(\n",
    "            '_',\n",
    "            ' ',\n",
    "        )\n",
    "\n",
    "        if header_title != title:\n",
    "\n",
    "            warn('{}: {} != {}'.format(\n",
    "                readme_file_path,\n",
    "                header_title,\n",
    "                title,\n",
    "            ))\n",
    "\n",
    "            if header_title.lower() != title.lower():\n",
    "\n",
    "                raise ValueError('{}: {} != {}'.format(\n",
    "                    readme_file_path,\n",
    "                    header_title.lower(),\n",
    "                    title.lower(),\n",
    "                ))\n",
    "\n",
    "    notebook_directory_path = os.path.join(\n",
    "        github_kwatme_directory_path,\n",
    "        name,\n",
    "        'notebook',\n",
    "    )\n",
    "\n",
    "    if os.path.isdir(notebook_directory_path):\n",
    "\n",
    "        notebook_file_path = os.path.join(\n",
    "            notebook_directory_path,\n",
    "            name + '.ipynb',\n",
    "        )\n",
    "\n",
    "        if os.path.isfile(notebook_file_path):\n",
    "\n",
    "            print('\\t{}'.format(notebook_file_path.replace(\n",
    "                '..',\n",
    "                'http://localhost:8888/github_kwatme',\n",
    "            )))\n",
    "\n",
    "        else:\n",
    "\n",
    "            print('{} doesn\\'t exist.'.format(notebook_file_path))\n",
    "\n",
    "    else:\n",
    "\n",
    "        print('\\t{} doesn\\'t exist.'.format(notebook_directory_path))\n",
    "\n",
    "    for file_name in os.listdir(os.path.join(\n",
    "        github_kwatme_directory_path,\n",
    "        name,\n",
    "        name,\n",
    "    )):\n",
    "\n",
    "        if file_name.endswith('.py'):\n",
    "\n",
    "            command = 'from {} import {}'.format(\n",
    "                name,\n",
    "                file_name[:-3],\n",
    "            )\n",
    "\n",
    "            print('\\t' + command)\n",
    "\n",
    "            exec(command)\n",
    "\n",
    "    sys.path.pop(0)"
   ]
  }
 ],
 "metadata": {
  "kernelspec": {
   "display_name": "Python 3",
   "language": "python",
   "name": "python3"
  },
  "language_info": {
   "codemirror_mode": {
    "name": "ipython",
    "version": 3
   },
   "file_extension": ".py",
   "mimetype": "text/x-python",
   "name": "python",
   "nbconvert_exporter": "python",
   "pygments_lexer": "ipython3",
   "version": "3.5.5"
  }
 },
 "nbformat": 4,
 "nbformat_minor": 2
}
