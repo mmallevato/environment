{
 "cells": [
  {
   "cell_type": "code",
   "execution_count": null,
   "metadata": {
    "ExecuteTime": {
     "end_time": "2018-03-05T04:23:27.970402Z",
     "start_time": "2018-03-05T04:23:27.965367Z"
    }
   },
   "outputs": [],
   "source": [
    "import importlib\n",
    "import os\n",
    "import sys\n",
    "from warnings import warn"
   ]
  },
  {
   "cell_type": "code",
   "execution_count": null,
   "metadata": {
    "ExecuteTime": {
     "end_time": "2018-03-05T04:23:27.981628Z",
     "start_time": "2018-03-05T04:23:27.974254Z"
    }
   },
   "outputs": [],
   "source": [
    "github_kwatme_directory_path = '..'"
   ]
  },
  {
   "cell_type": "code",
   "execution_count": null,
   "metadata": {
    "ExecuteTime": {
     "end_time": "2018-03-05T04:23:32.604490Z",
     "start_time": "2018-03-05T04:23:27.984223Z"
    },
    "scrolled": false
   },
   "outputs": [],
   "source": [
    "for i, name in enumerate(sorted(os.listdir(github_kwatme_directory_path))):\n",
    "    print('{} {}'.format(i, name))\n",
    "\n",
    "    if name in ('.DS_Store', '.idea', '.ipynb_checkpoints', 'environment',\n",
    "                'jupyter_gui', 'kwatme.com', 'match', 'nmf_map',\n",
    "                'probability'):\n",
    "        continue\n",
    "\n",
    "    sys.path.insert(0, os.path.join(github_kwatme_directory_path, name))\n",
    "\n",
    "    readme_file_path = os.path.join(github_kwatme_directory_path, name,\n",
    "                                    'README.md')\n",
    "    with open(readme_file_path) as file:\n",
    "\n",
    "        header_title = file.readline().strip()[2:]\n",
    "        title = name.title().replace('_', ' ')\n",
    "        if header_title != title:\n",
    "            warn('{}: {} != {}'.format(readme_file_path, header_title, title))\n",
    "            if header_title.lower() != title.lower():\n",
    "                raise ValueError('{}: {} != {}'.format(readme_file_path,\n",
    "                                                       header_title.lower(),\n",
    "                                                       title.lower()))\n",
    "\n",
    "    notebook_directory_path = os.path.join(github_kwatme_directory_path, name,\n",
    "                                           'notebook')\n",
    "\n",
    "    if os.path.isdir(notebook_directory_path):\n",
    "\n",
    "        notebook_file_path = os.path.join(notebook_directory_path,\n",
    "                                          name + '.ipynb')\n",
    "        if os.path.isfile(notebook_file_path):\n",
    "            print('\\t{}'.format(\n",
    "                notebook_file_path.replace(\n",
    "                    '..',\n",
    "                    'http://localhost:1111/notebooks/Jumis/github_kwatme')))\n",
    "        else:\n",
    "            print('{} doesn\\'t exist.'.format(notebook_file_path))\n",
    "\n",
    "    else:\n",
    "        print('\\t{} doesn\\'t exist.'.format(notebook_directory_path))\n",
    "\n",
    "    for file_name in os.listdir(\n",
    "            os.path.join(github_kwatme_directory_path, name, name)):\n",
    "\n",
    "        if file_name.endswith('.py'):\n",
    "\n",
    "            command = 'from {} import {}'.format(name, file_name[:-3])\n",
    "            print('\\t' + command)\n",
    "            exec(command)\n",
    "\n",
    "    sys.path.pop(0)"
   ]
  }
 ],
 "metadata": {
  "kernelspec": {
   "display_name": "Python 3",
   "language": "python",
   "name": "python3"
  },
  "language_info": {
   "codemirror_mode": {
    "name": "ipython",
    "version": 3
   },
   "file_extension": ".py",
   "mimetype": "text/x-python",
   "name": "python",
   "nbconvert_exporter": "python",
   "pygments_lexer": "ipython3",
   "version": "3.6.4"
  }
 },
 "nbformat": 4,
 "nbformat_minor": 2
}
