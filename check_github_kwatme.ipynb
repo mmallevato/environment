{
 "cells": [
  {
   "cell_type": "code",
   "execution_count": 1,
   "metadata": {
    "ExecuteTime": {
     "end_time": "2018-03-05T04:23:27.970402Z",
     "start_time": "2018-03-05T04:23:27.965367Z"
    }
   },
   "outputs": [],
   "source": [
    "import importlib\n",
    "import os\n",
    "import sys\n",
    "from warnings import warn"
   ]
  },
  {
   "cell_type": "code",
   "execution_count": 2,
   "metadata": {
    "ExecuteTime": {
     "end_time": "2018-03-05T04:23:27.981628Z",
     "start_time": "2018-03-05T04:23:27.974254Z"
    }
   },
   "outputs": [],
   "source": [
    "github_kwatme_directory_path = '..'"
   ]
  },
  {
   "cell_type": "code",
   "execution_count": 3,
   "metadata": {
    "ExecuteTime": {
     "end_time": "2018-03-05T04:23:32.604490Z",
     "start_time": "2018-03-05T04:23:27.984223Z"
    },
    "scrolled": false
   },
   "outputs": [
    {
     "name": "stdout",
     "output_type": "stream",
     "text": [
      "0 .DS_Store\n",
      "1 .idea\n",
      "2 .ipynb_checkpoints\n",
      "3 classify\n",
      "\thttp://localhost:1111/notebooks/Jumis/github_kwatme/classify/notebook/classify.ipynb\n",
      "4 cluster\n",
      "\thttp://localhost:1111/notebooks/Jumis/github_kwatme/cluster/notebook/cluster.ipynb\n",
      "5 context\n",
      "\thttp://localhost:1111/notebooks/Jumis/github_kwatme/context/notebook/context.ipynb\n",
      "6 cross_validate\n",
      "\thttp://localhost:1111/notebooks/Jumis/github_kwatme/cross_validate/notebook/cross_validate.ipynb\n",
      "7 cryptograph\n",
      "\t../cryptograph/notebook doesn't exist.\n",
      "8 dimension_scale\n",
      "\thttp://localhost:1111/notebooks/Jumis/github_kwatme/dimension_scale/notebook/dimension_scale.ipynb\n",
      "9 environment\n",
      "10 feature\n",
      "\thttp://localhost:1111/notebooks/Jumis/github_kwatme/feature/notebook/feature.ipynb\n",
      "11 gct_gmt\n",
      "\t../gct_gmt/notebook doesn't exist.\n",
      "12 genome\n",
      "\thttp://localhost:1111/notebooks/Jumis/github_kwatme/genome/notebook/genome.ipynb\n",
      "13 geo\n",
      "\thttp://localhost:1111/notebooks/Jumis/github_kwatme/geo/notebook/geo.ipynb\n",
      "14 gps_map\n",
      "\thttp://localhost:1111/notebooks/Jumis/github_kwatme/gps_map/notebook/gps_map.ipynb\n",
      "15 gsea\n",
      "\thttp://localhost:1111/notebooks/Jumis/github_kwatme/gsea/notebook/gsea.ipynb\n",
      "16 hdf5\n",
      "\t../hdf5/notebook doesn't exist.\n",
      "17 information\n",
      "\t../information/notebook doesn't exist.\n",
      "18 kernel_density\n",
      "\thttp://localhost:1111/notebooks/Jumis/github_kwatme/kernel_density/notebook/kernel_density.ipynb\n",
      "19 kwatme.com\n",
      "20 linear_algebra\n",
      "\t../linear_algebra/notebook doesn't exist.\n",
      "21 linear_model\n",
      "\thttp://localhost:1111/notebooks/Jumis/github_kwatme/linear_model/notebook/linear_model.ipynb\n",
      "22 match\n",
      "\thttp://localhost:1111/notebooks/Jumis/github_kwatme/match/notebook/match.ipynb\n",
      "23 matrix_factorization\n",
      "../matrix_factorization/notebook/matrix_factorization.ipynb doesn't exist.\n",
      "24 mutational_signature\n",
      "\t../mutational_signature/notebook doesn't exist.\n",
      "25 nd_array\n",
      "\thttp://localhost:1111/notebooks/Jumis/github_kwatme/nd_array/notebook/nd_array.ipynb\n",
      "26 network\n",
      "\t../network/notebook doesn't exist.\n",
      "27 nmf_map\n",
      "\thttp://localhost:1111/notebooks/Jumis/github_kwatme/nmf_map/notebook/nmf_map.ipynb\n",
      "28 plot\n",
      "\thttp://localhost:1111/notebooks/Jumis/github_kwatme/plot/notebook/plot.ipynb\n",
      "29 probability\n",
      "\thttp://localhost:1111/notebooks/Jumis/github_kwatme/probability/notebook/probability.ipynb\n",
      "30 regress\n",
      "\thttp://localhost:1111/notebooks/Jumis/github_kwatme/regress/notebook/regress.ipynb\n",
      "31 sequence\n",
      "\t../sequence/notebook doesn't exist.\n",
      "32 sequencing_process\n",
      "../sequencing_process/notebook/sequencing_process.ipynb doesn't exist.\n",
      "33 simulated_annealing\n",
      "\thttp://localhost:1111/notebooks/Jumis/github_kwatme/simulated_annealing/notebook/simulated_annealing.ipynb\n",
      "34 spro\n",
      "\t../spro/notebook doesn't exist.\n",
      "35 support\n",
      "\t../support/notebook doesn't exist.\n",
      "36 tcga\n",
      "\t../tcga/notebook doesn't exist.\n",
      "37 variant\n",
      "\thttp://localhost:1111/notebooks/Jumis/github_kwatme/variant/notebook/variant.ipynb\n"
     ]
    },
    {
     "name": "stderr",
     "output_type": "stream",
     "text": [
      "/Users/k/Jumis/conda/lib/python3.6/site-packages/ipykernel_launcher.py:17: UserWarning: ../gct_gmt/README.md: GCT GMT != Gct Gmt\n",
      "/Users/k/Jumis/conda/lib/python3.6/site-packages/ipykernel_launcher.py:17: UserWarning: ../geo/README.md: GEO != Geo\n",
      "/Users/k/Jumis/conda/lib/python3.6/site-packages/ipykernel_launcher.py:17: UserWarning: ../gps_map/README.md: GPS Map != Gps Map\n",
      "/Users/k/Jumis/conda/lib/python3.6/site-packages/ipykernel_launcher.py:17: UserWarning: ../gsea/README.md: GSEA != Gsea\n",
      "/Users/k/Jumis/conda/lib/python3.6/site-packages/ipykernel_launcher.py:17: UserWarning: ../hdf5/README.md: HDF5 != Hdf5\n",
      "/Users/k/Jumis/conda/lib/python3.6/site-packages/ipykernel_launcher.py:17: UserWarning: ../nd_array/README.md: ND Array != Nd Array\n",
      "/Users/k/Jumis/conda/lib/python3.6/site-packages/ipykernel_launcher.py:17: UserWarning: ../nmf_map/README.md: NMF Map != Nmf Map\n",
      "/Users/k/Jumis/conda/lib/python3.6/site-packages/ipykernel_launcher.py:17: UserWarning: ../spro/README.md: SPro != Spro\n",
      "/Users/k/Jumis/conda/lib/python3.6/site-packages/ipykernel_launcher.py:17: UserWarning: ../tcga/README.md: TCGA != Tcga\n"
     ]
    }
   ],
   "source": [
    "for i, name in enumerate(sorted(os.listdir(github_kwatme_directory_path))):\n",
    "    print('{} {}'.format(i, name))\n",
    "\n",
    "    if name in ('.DS_Store', '.ipynb_checkpoints', '.idea', 'environment',\n",
    "                'jupyter_gui', 'kwatme.com'):\n",
    "        continue\n",
    "\n",
    "    sys.path.insert(0, os.path.join(github_kwatme_directory_path, name))\n",
    "\n",
    "    readme_file_path = os.path.join(github_kwatme_directory_path, name,\n",
    "                                    'README.md')\n",
    "    with open(readme_file_path) as file:\n",
    "\n",
    "        header_title = file.readline().strip()[2:]\n",
    "        title = name.title().replace('_', ' ')\n",
    "        if header_title != title:\n",
    "            warn('{}: {} != {}'.format(readme_file_path, header_title, title))\n",
    "            if header_title.lower() != title.lower():\n",
    "                raise ValueError('{}: {} != {}'.format(readme_file_path,\n",
    "                                                       header_title.lower(),\n",
    "                                                       title.lower()))\n",
    "\n",
    "    notebook_directory_path = os.path.join(github_kwatme_directory_path, name,\n",
    "                                           'notebook')\n",
    "\n",
    "    if os.path.isdir(notebook_directory_path):\n",
    "\n",
    "        notebook_file_path = os.path.join(notebook_directory_path,\n",
    "                                          name + '.ipynb')\n",
    "        if os.path.isfile(notebook_file_path):\n",
    "            print('\\t{}'.format(\n",
    "                notebook_file_path.replace(\n",
    "                    '..',\n",
    "                    'http://localhost:1111/notebooks/Jumis/github_kwatme')))\n",
    "        else:\n",
    "            print('{} doesn\\'t exist.'.format(notebook_file_path))\n",
    "\n",
    "    else:\n",
    "        print('\\t{} doesn\\'t exist.'.format(notebook_directory_path))\n",
    "\n",
    "    for file_name in os.listdir(\n",
    "            os.path.join(github_kwatme_directory_path, name, name)):\n",
    "\n",
    "        if file_name.endswith('.py'):\n",
    "\n",
    "            command = 'from {} import {}'.format(name, file_name[:-3])\n",
    "            print('\\t' + command)\n",
    "            exec(command)\n",
    "\n",
    "    sys.path.pop(0)"
   ]
  }
 ],
 "metadata": {
  "kernelspec": {
   "display_name": "Python 3",
   "language": "python",
   "name": "python3"
  },
  "language_info": {
   "codemirror_mode": {
    "name": "ipython",
    "version": 3
   },
   "file_extension": ".py",
   "mimetype": "text/x-python",
   "name": "python",
   "nbconvert_exporter": "python",
   "pygments_lexer": "ipython3",
   "version": "3.6.4"
  }
 },
 "nbformat": 4,
 "nbformat_minor": 2
}
