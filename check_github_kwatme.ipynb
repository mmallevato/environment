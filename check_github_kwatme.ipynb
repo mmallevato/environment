{
 "cells": [
  {
   "cell_type": "code",
   "execution_count": 1,
   "metadata": {
    "ExecuteTime": {
     "end_time": "2018-04-29T22:32:25.376107Z",
     "start_time": "2018-04-29T22:32:25.365478Z"
    }
   },
   "outputs": [],
   "source": [
    "import importlib\n",
    "import os\n",
    "import subprocess\n",
    "import sys\n",
    "from warnings import warn"
   ]
  },
  {
   "cell_type": "code",
   "execution_count": 2,
   "metadata": {
    "ExecuteTime": {
     "end_time": "2018-04-29T22:32:25.395520Z",
     "start_time": "2018-04-29T22:32:25.381894Z"
    }
   },
   "outputs": [],
   "source": [
    "github_kwatme_directory_path = '..'"
   ]
  },
  {
   "cell_type": "code",
   "execution_count": null,
   "metadata": {
    "ExecuteTime": {
     "start_time": "2018-04-29T22:32:25.342Z"
    },
    "scrolled": false
   },
   "outputs": [
    {
     "name": "stdout",
     "output_type": "stream",
     "text": [
      "1 classify\n",
      "\thttp://localhost:1111/notebooks/Jumis/github_kwatme/classify/notebook/classify.ipynb\n",
      "\tfrom classify import train_and_classify\n",
      "\tfrom classify import __init__\n",
      "2 cluster\n",
      "\thttp://localhost:1111/notebooks/Jumis/github_kwatme/cluster/notebook/cluster.ipynb\n",
      "\tfrom cluster import nmf_consensus_cluster_with_multiple_k\n",
      "\tfrom cluster import nmf_consensus_cluster\n",
      "\tfrom cluster import __init__\n",
      "\tfrom cluster import hierarchical_consensus_cluster_with_multiple_k\n",
      "\tfrom cluster import count_coclustering_and_normalize\n",
      "\tfrom cluster import hierarchical_consensus_cluster\n",
      "3 context\n",
      "\thttp://localhost:1111/notebooks/Jumis/github_kwatme/context/notebook/context.ipynb\n",
      "\tfrom context import make_context_matrix\n",
      "\tfrom context import fit_skew_t_pdf\n",
      "\tfrom context import make_context_matrix_and_summarize_context_by_row\n",
      "\tfrom context import __init__\n",
      "\tfrom context import plot_context\n",
      "\tfrom context import fit_skew_t_pdfs\n",
      "\tfrom context import compute_context\n",
      "\tfrom context import process_array_1d_bad_values\n",
      "4 cross_validate\n",
      "\thttp://localhost:1111/notebooks/Jumis/github_kwatme/cross_validate/notebook/cross_validate.ipynb\n",
      "\tfrom cross_validate import __init__\n",
      "\tfrom cross_validate import cross_validate\n",
      "5 cryptograph\n",
      "\thttp://localhost:1111/notebooks/Jumis/github_kwatme/cryptograph/notebook/cryptograph.ipynb\n",
      "\tfrom cryptograph import access_passcode\n",
      "\tfrom cryptograph import __init__\n",
      "\tfrom cryptograph import crypt_with_aes\n",
      "\tfrom cryptograph import hash_\n",
      "6 dimension_scale\n",
      "\thttp://localhost:1111/notebooks/Jumis/github_kwatme/dimension_scale/notebook/dimension_scale.ipynb\n",
      "\tfrom dimension_scale import mds\n",
      "\tfrom dimension_scale import __init__\n",
      "7 feature\n",
      "\thttp://localhost:1111/notebooks/Jumis/github_kwatme/feature/notebook/feature.ipynb\n",
      "\tfrom feature import get_gff3_attribute\n",
      "\tfrom feature import index_gff3_df_by_name\n",
      "\tfrom feature import __init__\n",
      "\tfrom feature import read_gff3_gz\n",
      "\tfrom feature import FeatureHDF5\n",
      "8 gct_gmt\n",
      "\thttp://localhost:1111/notebooks/Jumis/github_kwatme/gct_gmt/notebook/gct_gmt.ipynb\n",
      "\tfrom gct_gmt import access_gmt\n",
      "\tfrom gct_gmt import __init__\n",
      "\tfrom gct_gmt import access_gct\n",
      "9 genome\n",
      "\thttp://localhost:1111/notebooks/Jumis/github_kwatme/genome/notebook/genome.ipynb\n",
      "\tfrom genome import __init__\n",
      "\tfrom genome import Genome\n",
      "10 geo\n",
      "\thttp://localhost:1111/notebooks/Jumis/github_kwatme/geo/notebook/geo.ipynb\n",
      "\tfrom geo import __init__\n",
      "\tfrom geo import get_and_parse_geo_data\n",
      "11 gsea\n",
      "\thttp://localhost:1111/notebooks/Jumis/github_kwatme/gsea/notebook/gsea.ipynb\n",
      "\tfrom gsea import compute_gene_scores\n",
      "\tfrom gsea import single_sample_gseas\n",
      "\tfrom gsea import __init__\n",
      "\tfrom gsea import plot_mountain_plot\n",
      "\tfrom gsea import single_sample_gsea\n",
      "\tfrom gsea import gsea\n"
     ]
    },
    {
     "name": "stderr",
     "output_type": "stream",
     "text": [
      "/Users/k/Jumis/conda/lib/python3.6/site-packages/ipykernel_launcher.py:27: UserWarning:\n",
      "\n",
      "../gct_gmt/README.md: GCT GMT != Gct Gmt\n",
      "\n",
      "/Users/k/Jumis/conda/lib/python3.6/site-packages/ipykernel_launcher.py:27: UserWarning:\n",
      "\n",
      "../geo/README.md: GEO != Geo\n",
      "\n",
      "/Users/k/Jumis/conda/lib/python3.6/site-packages/ipykernel_launcher.py:27: UserWarning:\n",
      "\n",
      "../gsea/README.md: GSEA != Gsea\n",
      "\n"
     ]
    }
   ],
   "source": [
    "n = 0\n",
    "\n",
    "for name in sorted(os.listdir(github_kwatme_directory_path)):\n",
    "\n",
    "    if name in ('.DS_Store', '.idea', '.ipynb_checkpoints', 'environment',\n",
    "                'jupyter_gui', 'kwatme.com'):\n",
    "\n",
    "        continue\n",
    "\n",
    "    n += 1\n",
    "\n",
    "    print('{} {}'.format(n, name))\n",
    "\n",
    "    sys.path.insert(0, os.path.join(github_kwatme_directory_path, name))\n",
    "\n",
    "    readme_file_path = os.path.join(github_kwatme_directory_path, name,\n",
    "                                    'README.md')\n",
    "\n",
    "    with open(readme_file_path) as file:\n",
    "\n",
    "        header_title = file.readline().strip()[2:]\n",
    "\n",
    "        title = name.title().replace('_', ' ')\n",
    "\n",
    "        if header_title != title:\n",
    "\n",
    "            warn('{}: {} != {}'.format(readme_file_path, header_title, title))\n",
    "\n",
    "            if header_title.lower() != title.lower():\n",
    "\n",
    "                raise ValueError('{}: {} != {}'.format(readme_file_path,\n",
    "                                                       header_title.lower(),\n",
    "                                                       title.lower()))\n",
    "\n",
    "    notebook_directory_path = os.path.join(github_kwatme_directory_path, name,\n",
    "                                           'notebook')\n",
    "\n",
    "    if os.path.isdir(notebook_directory_path):\n",
    "\n",
    "        notebook_file_path = os.path.join(notebook_directory_path,\n",
    "                                          name + '.ipynb')\n",
    "\n",
    "        if os.path.isfile(notebook_file_path):\n",
    "\n",
    "            print('\\t{}'.format(\n",
    "                notebook_file_path.replace(\n",
    "                    '..',\n",
    "                    'http://localhost:1111/notebooks/Jumis/github_kwatme')))\n",
    "\n",
    "        else:\n",
    "\n",
    "            print('{} doesn\\'t exist.'.format(notebook_file_path))\n",
    "\n",
    "    else:\n",
    "\n",
    "        print('\\t{} doesn\\'t exist.'.format(notebook_directory_path))\n",
    "\n",
    "    for file_name in os.listdir(\n",
    "            os.path.join(github_kwatme_directory_path, name, name)):\n",
    "\n",
    "        if file_name.endswith('.py'):\n",
    "\n",
    "            command = 'from {} import {}'.format(name, file_name[:-3])\n",
    "\n",
    "            print('\\t' + command)\n",
    "\n",
    "            exec(command)\n",
    "\n",
    "    sys.path.pop(0)"
   ]
  }
 ],
 "metadata": {
  "kernelspec": {
   "display_name": "Python 3",
   "language": "python",
   "name": "python3"
  },
  "language_info": {
   "codemirror_mode": {
    "name": "ipython",
    "version": 3
   },
   "file_extension": ".py",
   "mimetype": "text/x-python",
   "name": "python",
   "nbconvert_exporter": "python",
   "pygments_lexer": "ipython3",
   "version": "3.6.5"
  }
 },
 "nbformat": 4,
 "nbformat_minor": 2
}
