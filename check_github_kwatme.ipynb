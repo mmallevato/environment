{
 "cells": [
  {
   "cell_type": "code",
   "execution_count": 1,
   "metadata": {
    "ExecuteTime": {
     "end_time": "2018-05-06T23:26:21.614636Z",
     "start_time": "2018-05-06T23:26:21.609735Z"
    }
   },
   "outputs": [],
   "source": [
    "import importlib\n",
    "import os\n",
    "import subprocess\n",
    "import sys\n",
    "from warnings import warn"
   ]
  },
  {
   "cell_type": "code",
   "execution_count": 2,
   "metadata": {
    "ExecuteTime": {
     "end_time": "2018-05-06T23:26:21.624387Z",
     "start_time": "2018-05-06T23:26:21.619761Z"
    }
   },
   "outputs": [],
   "source": [
    "github_kwatme_directory_path = '..'"
   ]
  },
  {
   "cell_type": "code",
   "execution_count": 3,
   "metadata": {
    "ExecuteTime": {
     "end_time": "2018-05-06T23:26:23.159931Z",
     "start_time": "2018-05-06T23:26:21.628531Z"
    },
    "scrolled": false
   },
   "outputs": [
    {
     "name": "stdout",
     "output_type": "stream",
     "text": [
      "1 classify\n",
      "\thttp://localhost:1111/notebooks/Jumis/github_kwatme/classify/notebook/classify.ipynb\n",
      "\tfrom classify import train_and_classify\n",
      "\tfrom classify import __init__\n",
      "2 cluster\n",
      "\thttp://localhost:1111/notebooks/Jumis/github_kwatme/cluster/notebook/cluster.ipynb\n",
      "\tfrom cluster import nmf_consensus_cluster_with_multiple_k\n"
     ]
    },
    {
     "ename": "ModuleNotFoundError",
     "evalue": "No module named 'cluster.plot.plot.make_html_and_plotly_file_path_from_directory_paths'",
     "output_type": "error",
     "traceback": [
      "\u001b[0;31m---------------------------------------------------------------------------\u001b[0m",
      "\u001b[0;31mModuleNotFoundError\u001b[0m                       Traceback (most recent call last)",
      "\u001b[0;32m<ipython-input-3-4cd754995729>\u001b[0m in \u001b[0;36m<module>\u001b[0;34m()\u001b[0m\n\u001b[1;32m     65\u001b[0m             \u001b[0mprint\u001b[0m\u001b[0;34m(\u001b[0m\u001b[0;34m'\\t'\u001b[0m \u001b[0;34m+\u001b[0m \u001b[0mcommand\u001b[0m\u001b[0;34m)\u001b[0m\u001b[0;34m\u001b[0m\u001b[0m\n\u001b[1;32m     66\u001b[0m \u001b[0;34m\u001b[0m\u001b[0m\n\u001b[0;32m---> 67\u001b[0;31m             \u001b[0mexec\u001b[0m\u001b[0;34m(\u001b[0m\u001b[0mcommand\u001b[0m\u001b[0;34m)\u001b[0m\u001b[0;34m\u001b[0m\u001b[0m\n\u001b[0m\u001b[1;32m     68\u001b[0m \u001b[0;34m\u001b[0m\u001b[0m\n\u001b[1;32m     69\u001b[0m     \u001b[0msys\u001b[0m\u001b[0;34m.\u001b[0m\u001b[0mpath\u001b[0m\u001b[0;34m.\u001b[0m\u001b[0mpop\u001b[0m\u001b[0;34m(\u001b[0m\u001b[0;36m0\u001b[0m\u001b[0;34m)\u001b[0m\u001b[0;34m\u001b[0m\u001b[0m\n",
      "\u001b[0;32m<string>\u001b[0m in \u001b[0;36m<module>\u001b[0;34m()\u001b[0m\n",
      "\u001b[0;32m~/Jumis/github_kwatme/cluster/cluster/nmf_consensus_cluster_with_multiple_k.py\u001b[0m in \u001b[0;36m<module>\u001b[0;34m()\u001b[0m\n\u001b[1;32m      3\u001b[0m \u001b[0;32mfrom\u001b[0m \u001b[0mpandas\u001b[0m \u001b[0;32mimport\u001b[0m \u001b[0mDataFrame\u001b[0m\u001b[0;34m,\u001b[0m \u001b[0mSeries\u001b[0m\u001b[0;34m\u001b[0m\u001b[0m\n\u001b[1;32m      4\u001b[0m \u001b[0;34m\u001b[0m\u001b[0m\n\u001b[0;32m----> 5\u001b[0;31m \u001b[0;32mfrom\u001b[0m \u001b[0;34m.\u001b[0m\u001b[0mnmf_consensus_cluster\u001b[0m \u001b[0;32mimport\u001b[0m \u001b[0mnmf_consensus_cluster\u001b[0m\u001b[0;34m\u001b[0m\u001b[0m\n\u001b[0m\u001b[1;32m      6\u001b[0m \u001b[0;32mfrom\u001b[0m \u001b[0;34m.\u001b[0m\u001b[0mplot\u001b[0m\u001b[0;34m.\u001b[0m\u001b[0mplot\u001b[0m\u001b[0;34m.\u001b[0m\u001b[0mmake_html_and_plotly_file_path_from_directory_paths\u001b[0m \u001b[0;32mimport\u001b[0m\u001b[0;31m \u001b[0m\u001b[0;31m\\\u001b[0m\u001b[0;34m\u001b[0m\u001b[0m\n\u001b[1;32m      7\u001b[0m     \u001b[0mmake_html_and_plotly_file_path_from_directory_paths\u001b[0m\u001b[0;34m\u001b[0m\u001b[0m\n",
      "\u001b[0;32m~/Jumis/github_kwatme/cluster/cluster/nmf_consensus_cluster.py\u001b[0m in \u001b[0;36m<module>\u001b[0;34m()\u001b[0m\n\u001b[1;32m      8\u001b[0m \u001b[0;32mfrom\u001b[0m \u001b[0;34m.\u001b[0m\u001b[0mcount_coclustering_and_normalize\u001b[0m \u001b[0;32mimport\u001b[0m \u001b[0mcount_coclustering_and_normalize\u001b[0m\u001b[0;34m\u001b[0m\u001b[0m\n\u001b[1;32m      9\u001b[0m \u001b[0;32mfrom\u001b[0m \u001b[0;34m.\u001b[0m\u001b[0mmatrix_factorization\u001b[0m\u001b[0;34m.\u001b[0m\u001b[0mmatrix_factorization\u001b[0m\u001b[0;34m.\u001b[0m\u001b[0mnmf\u001b[0m \u001b[0;32mimport\u001b[0m \u001b[0mnmf\u001b[0m\u001b[0;34m\u001b[0m\u001b[0m\n\u001b[0;32m---> 10\u001b[0;31m \u001b[0;32mfrom\u001b[0m \u001b[0;34m.\u001b[0m\u001b[0mplot\u001b[0m\u001b[0;34m.\u001b[0m\u001b[0mplot\u001b[0m\u001b[0;34m.\u001b[0m\u001b[0mmake_html_and_plotly_file_path_from_directory_paths\u001b[0m \u001b[0;32mimport\u001b[0m\u001b[0;31m \u001b[0m\u001b[0;31m\\\u001b[0m\u001b[0;34m\u001b[0m\u001b[0m\n\u001b[0m\u001b[1;32m     11\u001b[0m     \u001b[0mmake_html_and_plotly_file_path_from_directory_paths\u001b[0m\u001b[0;34m\u001b[0m\u001b[0m\n\u001b[1;32m     12\u001b[0m \u001b[0;32mfrom\u001b[0m \u001b[0;34m.\u001b[0m\u001b[0mplot\u001b[0m\u001b[0;34m.\u001b[0m\u001b[0mplot\u001b[0m\u001b[0;34m.\u001b[0m\u001b[0mplot_heat_map\u001b[0m \u001b[0;32mimport\u001b[0m \u001b[0mplot_heat_map\u001b[0m\u001b[0;34m\u001b[0m\u001b[0m\n",
      "\u001b[0;31mModuleNotFoundError\u001b[0m: No module named 'cluster.plot.plot.make_html_and_plotly_file_path_from_directory_paths'"
     ]
    }
   ],
   "source": [
    "n = 0\n",
    "\n",
    "for name in sorted(os.listdir(github_kwatme_directory_path)):\n",
    "\n",
    "    if name in ('.DS_Store', '.idea', '.ipynb_checkpoints', 'environment',\n",
    "                'jupyter_gui', 'kwatme.com'):\n",
    "\n",
    "        continue\n",
    "\n",
    "    n += 1\n",
    "\n",
    "    print('{} {}'.format(n, name))\n",
    "\n",
    "    sys.path.insert(0, os.path.join(github_kwatme_directory_path, name))\n",
    "\n",
    "    readme_file_path = os.path.join(github_kwatme_directory_path, name,\n",
    "                                    'README.md')\n",
    "\n",
    "    with open(readme_file_path) as file:\n",
    "\n",
    "        header_title = file.readline().strip()[2:]\n",
    "\n",
    "        title = name.title().replace('_', ' ')\n",
    "\n",
    "        if header_title != title:\n",
    "\n",
    "            warn('{}: {} != {}'.format(readme_file_path, header_title, title))\n",
    "\n",
    "            if header_title.lower() != title.lower():\n",
    "\n",
    "                raise ValueError('{}: {} != {}'.format(readme_file_path,\n",
    "                                                       header_title.lower(),\n",
    "                                                       title.lower()))\n",
    "\n",
    "    notebook_directory_path = os.path.join(github_kwatme_directory_path, name,\n",
    "                                           'notebook')\n",
    "\n",
    "    if os.path.isdir(notebook_directory_path):\n",
    "\n",
    "        notebook_file_path = os.path.join(notebook_directory_path,\n",
    "                                          name + '.ipynb')\n",
    "\n",
    "        if os.path.isfile(notebook_file_path):\n",
    "\n",
    "            print('\\t{}'.format(\n",
    "                notebook_file_path.replace(\n",
    "                    '..',\n",
    "                    'http://localhost:1111/notebooks/Jumis/github_kwatme')))\n",
    "\n",
    "        else:\n",
    "\n",
    "            print('{} doesn\\'t exist.'.format(notebook_file_path))\n",
    "\n",
    "    else:\n",
    "\n",
    "        print('\\t{} doesn\\'t exist.'.format(notebook_directory_path))\n",
    "\n",
    "    for file_name in os.listdir(\n",
    "            os.path.join(github_kwatme_directory_path, name, name)):\n",
    "\n",
    "        if file_name.endswith('.py'):\n",
    "\n",
    "            command = 'from {} import {}'.format(name, file_name[:-3])\n",
    "\n",
    "            print('\\t' + command)\n",
    "\n",
    "            exec(command)\n",
    "\n",
    "    sys.path.pop(0)"
   ]
  }
 ],
 "metadata": {
  "kernelspec": {
   "display_name": "Python 3",
   "language": "python",
   "name": "python3"
  },
  "language_info": {
   "codemirror_mode": {
    "name": "ipython",
    "version": 3
   },
   "file_extension": ".py",
   "mimetype": "text/x-python",
   "name": "python",
   "nbconvert_exporter": "python",
   "pygments_lexer": "ipython3",
   "version": "3.6.5"
  }
 },
 "nbformat": 4,
 "nbformat_minor": 2
}
