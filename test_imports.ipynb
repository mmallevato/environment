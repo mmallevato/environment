{
 "cells": [
  {
   "cell_type": "code",
   "execution_count": 1,
   "metadata": {
    "ExecuteTime": {
     "end_time": "2017-09-25T17:32:37.668324Z",
     "start_time": "2017-09-25T17:32:37.663078Z"
    },
    "collapsed": true
   },
   "outputs": [],
   "source": [
    "import os\n",
    "import sys\n",
    "import importlib"
   ]
  },
  {
   "cell_type": "code",
   "execution_count": 6,
   "metadata": {
    "ExecuteTime": {
     "end_time": "2017-09-25T17:33:20.328634Z",
     "start_time": "2017-09-25T17:33:20.323952Z"
    },
    "collapsed": true
   },
   "outputs": [],
   "source": [
    "REPOSITORIES_DP = '/home/k/Jumis/tools/repositories/'"
   ]
  },
  {
   "cell_type": "code",
   "execution_count": 23,
   "metadata": {
    "ExecuteTime": {
     "end_time": "2017-09-25T17:47:55.181372Z",
     "start_time": "2017-09-25T17:47:55.119842Z"
    },
    "scrolled": false
   },
   "outputs": [
    {
     "name": "stdout",
     "output_type": "stream",
     "text": [
      "\n",
      "0 array_nd\n",
      "\tfrom array_nd import drop_nan_and_apply_function_on_2_1d_arrays\n",
      "\tfrom array_nd import make_nd_grid_coordinates\n",
      "\tfrom array_nd import shuffle_each_2d_array_slice\n",
      "\tfrom array_nd import normalize_2d_array\n",
      "\tfrom array_nd import compute_empirical_p_values_and_fdrs\n",
      "\tfrom array_nd import compute_margin_of_error\n",
      "\tfrom array_nd import apply_function_on_2_2d_arrays_slices\n",
      "\tfrom array_nd import normalize_1d_array\n",
      "\tfrom array_nd import get_1d_array_unique_objects_in_order\n",
      "\tfrom array_nd import cluster_2d_array_rows_and_columns\n",
      "\tfrom array_nd import apply_function_on_2_1d_arrays_and_compute_empirical_p_value\n",
      "\tfrom array_nd import cluster_2d_array_slices_by_group\n",
      "\tfrom array_nd import compute_empirical_p_value\n",
      "\tfrom array_nd import compute_log2_fold_ratios\n",
      "\tfrom array_nd import __init__\n",
      "\tfrom array_nd import fit_functino_on_each_2d_array_slice\n",
      "\n",
      "1 classification\n",
      "\tfrom classification import classify\n",
      "\tfrom classification import __init__\n",
      "\n",
      "2 cluster\n",
      "\tfrom cluster import nmf_consensus_cluster\n",
      "\tfrom cluster import consensus_cluster\n",
      "\tfrom cluster import count_coclusterings\n",
      "\tfrom cluster import __init__\n",
      "\tfrom cluster import hierarchical_consensus_cluster\n",
      "\tfrom cluster import hierarchical_cluster_distances_and_compute_ccc\n",
      "\n",
      "3 cryptograph\n",
      "\tfrom cryptograph import hash_\n",
      "\tfrom cryptograph import crypt_with_aes\n",
      "\tfrom cryptograph import access_passcode\n",
      "\tfrom cryptograph import __init__\n",
      "\tfrom cryptograph import crypt_with_rsa\n",
      "\n",
      "4 dimension_reduction\n",
      "\tfrom dimension_reduction import mds\n",
      "\tfrom dimension_reduction import __init__\n",
      "\n",
      "5 environment\n",
      "\n",
      "6 feature\n",
      "\tfrom feature import access_gff\n",
      "\tfrom feature import __init__\n",
      "\tfrom feature import featurehdf5\n",
      "\n",
      "7 file\n",
      "\tfrom file import read_fpkm_tracking\n",
      "\tfrom file import access_gmt\n",
      "\tfrom file import __init__\n",
      "\tfrom file import access_gct\n",
      "\n",
      "8 grch\n",
      "\tfrom grch import get_grch\n",
      "\tfrom grch import __init__\n",
      "\n",
      "9 gsea\n",
      "\tfrom gsea import compute_enrichment_score\n",
      "\tfrom gsea import permute_and_compute_enrichment_score\n",
      "\tfrom gsea import __init__\n",
      "\tfrom gsea import run_single_sample_gsea\n",
      "\n",
      "10 hdf5\n",
      "\tfrom hdf5 import read_where_and_map_column_names\n",
      "\tfrom hdf5 import __init__\n",
      "\n",
      "11 information\n",
      "\tfrom information import compute_entropy\n",
      "\tfrom information import compute_information_coefficient\n",
      "\tfrom information import __init__\n",
      "\tfrom information import compute_brier_entropy\n",
      "\n",
      "12 jupyter_gui\n",
      "\n",
      "13 kernel_density\n",
      "\tfrom kernel_density import kde\n",
      "\tfrom kernel_density import compute_bandwidths\n",
      "\tfrom kernel_density import __init__\n",
      "\n",
      "14 linear_algebra\n",
      "\tfrom linear_algebra import solve_ax_equal_b\n",
      "\tfrom linear_algebra import __init__\n",
      "\n",
      "15 linear_model\n",
      "\tfrom linear_model import correlate\n",
      "\tfrom linear_model import __init__\n",
      "\n",
      "16 match\n",
      "\tfrom match import make_summary_match_panel\n",
      "\tfrom match import make_comparison_panel\n",
      "\tfrom match import plot_match_panel\n",
      "\tfrom match import __init__\n",
      "\tfrom match import match\n",
      "\tfrom match import make_match_panel\n",
      "\n",
      "17 matrix_decomposition\n",
      "\tfrom matrix_decomposition import nmf\n",
      "\tfrom matrix_decomposition import __init__\n",
      "\n",
      "18 mutational_signature\n",
      "\tfrom mutational_signature import mutational_signature\n",
      "\tfrom mutational_signature import __init__\n",
      "\n",
      "19 network\n",
      "\tfrom network import __init__\n",
      "\n",
      "20 onco_gps\n",
      "\tfrom onco_gps import make_node_x_dimension\n",
      "\tfrom onco_gps import define_states\n",
      "\tfrom onco_gps import make_sample_x_dimension\n",
      "\tfrom onco_gps import make_grid_values_and_states\n",
      "\tfrom onco_gps import __init__\n",
      "\tfrom onco_gps import normalize_a_matrix\n",
      "\tfrom onco_gps import define_components\n",
      "\tfrom onco_gps import GPSMap\n"
     ]
    },
    {
     "ename": "ImportError",
     "evalue": "cannot import name 'linspace'",
     "output_type": "error",
     "traceback": [
      "\u001b[0;31m---------------------------------------------------------------------------\u001b[0m",
      "\u001b[0;31mImportError\u001b[0m                               Traceback (most recent call last)",
      "\u001b[0;32m<ipython-input-23-451001a07f9f>\u001b[0m in \u001b[0;36m<module>\u001b[0;34m()\u001b[0m\n\u001b[1;32m     13\u001b[0m             \u001b[0mcommand\u001b[0m \u001b[0;34m=\u001b[0m \u001b[0;34m'from {} import {}'\u001b[0m\u001b[0;34m.\u001b[0m\u001b[0mformat\u001b[0m\u001b[0;34m(\u001b[0m\u001b[0mfn\u001b[0m\u001b[0;34m,\u001b[0m \u001b[0mmn\u001b[0m\u001b[0;34m[\u001b[0m\u001b[0;34m:\u001b[0m\u001b[0;34m-\u001b[0m\u001b[0;36m3\u001b[0m\u001b[0;34m]\u001b[0m\u001b[0;34m)\u001b[0m\u001b[0;34m\u001b[0m\u001b[0m\n\u001b[1;32m     14\u001b[0m             \u001b[0mprint\u001b[0m\u001b[0;34m(\u001b[0m\u001b[0;34m'\\t'\u001b[0m \u001b[0;34m+\u001b[0m \u001b[0mcommand\u001b[0m\u001b[0;34m)\u001b[0m\u001b[0;34m\u001b[0m\u001b[0m\n\u001b[0;32m---> 15\u001b[0;31m             \u001b[0mexec\u001b[0m\u001b[0;34m(\u001b[0m\u001b[0mcommand\u001b[0m\u001b[0;34m)\u001b[0m\u001b[0;34m\u001b[0m\u001b[0m\n\u001b[0m\u001b[1;32m     16\u001b[0m \u001b[0;34m\u001b[0m\u001b[0m\n\u001b[1;32m     17\u001b[0m \u001b[0;34m\u001b[0m\u001b[0m\n",
      "\u001b[0;32m<string>\u001b[0m in \u001b[0;36m<module>\u001b[0;34m()\u001b[0m\n",
      "\u001b[0;32m~/Jumis/tools/repositories/onco_gps/onco_gps/GPSMap.py\u001b[0m in \u001b[0;36m<module>\u001b[0;34m()\u001b[0m\n\u001b[1;32m     13\u001b[0m \u001b[0;32mfrom\u001b[0m \u001b[0;34m.\u001b[0m\u001b[0mmake_sample_x_dimension\u001b[0m \u001b[0;32mimport\u001b[0m \u001b[0mmake_sample_x_dimension\u001b[0m\u001b[0;34m\u001b[0m\u001b[0m\n\u001b[1;32m     14\u001b[0m \u001b[0;32mfrom\u001b[0m \u001b[0;34m.\u001b[0m\u001b[0mplot\u001b[0m\u001b[0;34m.\u001b[0m\u001b[0mplot\u001b[0m\u001b[0;34m.\u001b[0m\u001b[0massign_colors\u001b[0m \u001b[0;32mimport\u001b[0m \u001b[0massign_colors\u001b[0m\u001b[0;34m\u001b[0m\u001b[0m\n\u001b[0;32m---> 15\u001b[0;31m \u001b[0;32mfrom\u001b[0m \u001b[0;34m.\u001b[0m\u001b[0mplot\u001b[0m\u001b[0;34m.\u001b[0m\u001b[0mplot\u001b[0m\u001b[0;34m.\u001b[0m\u001b[0mplot_samples\u001b[0m \u001b[0;32mimport\u001b[0m \u001b[0mplot_samples\u001b[0m\u001b[0;34m\u001b[0m\u001b[0m\n\u001b[0m\u001b[1;32m     16\u001b[0m \u001b[0;32mfrom\u001b[0m \u001b[0;34m.\u001b[0m\u001b[0mplot\u001b[0m\u001b[0;34m.\u001b[0m\u001b[0mplot\u001b[0m\u001b[0;34m.\u001b[0m\u001b[0msave_plot\u001b[0m \u001b[0;32mimport\u001b[0m \u001b[0msave_plot\u001b[0m\u001b[0;34m\u001b[0m\u001b[0m\n\u001b[1;32m     17\u001b[0m \u001b[0;32mfrom\u001b[0m \u001b[0;34m.\u001b[0m\u001b[0mplot\u001b[0m\u001b[0;34m.\u001b[0m\u001b[0mplot\u001b[0m\u001b[0;34m.\u001b[0m\u001b[0mstyle\u001b[0m \u001b[0;32mimport\u001b[0m \u001b[0mFIGURE_SIZE\u001b[0m\u001b[0;34m\u001b[0m\u001b[0m\n",
      "\u001b[0;32m~/Jumis/tools/repositories/onco_gps/onco_gps/plot/plot/plot_samples.py\u001b[0m in \u001b[0;36m<module>\u001b[0;34m()\u001b[0m\n\u001b[1;32m      1\u001b[0m \u001b[0;32mfrom\u001b[0m \u001b[0mmatplotlib\u001b[0m\u001b[0;34m.\u001b[0m\u001b[0mpyplot\u001b[0m \u001b[0;32mimport\u001b[0m \u001b[0mfigure\u001b[0m\u001b[0;34m\u001b[0m\u001b[0m\n\u001b[1;32m      2\u001b[0m \u001b[0;32mfrom\u001b[0m \u001b[0mnumpy\u001b[0m \u001b[0;32mimport\u001b[0m \u001b[0marray\u001b[0m\u001b[0;34m,\u001b[0m \u001b[0mcos\u001b[0m\u001b[0;34m,\u001b[0m \u001b[0mpi\u001b[0m\u001b[0;34m,\u001b[0m \u001b[0msin\u001b[0m\u001b[0;34m\u001b[0m\u001b[0m\n\u001b[0;32m----> 3\u001b[0;31m \u001b[0;32mfrom\u001b[0m \u001b[0mpandas\u001b[0m \u001b[0;32mimport\u001b[0m \u001b[0mlinspace\u001b[0m\u001b[0;34m\u001b[0m\u001b[0m\n\u001b[0m\u001b[1;32m      4\u001b[0m \u001b[0;34m\u001b[0m\u001b[0m\n\u001b[1;32m      5\u001b[0m \u001b[0;32mfrom\u001b[0m \u001b[0;34m.\u001b[0m\u001b[0massign_colors\u001b[0m \u001b[0;32mimport\u001b[0m \u001b[0massign_colors\u001b[0m\u001b[0;34m\u001b[0m\u001b[0m\n",
      "\u001b[0;31mImportError\u001b[0m: cannot import name 'linspace'"
     ]
    }
   ],
   "source": [
    "for i, fn in enumerate(sorted(os.listdir(REPOSITORIES_DP))):\n",
    "    print('\\n{} {}'.format(i, fn))\n",
    "    \n",
    "    if fn in ('.DS_Store', 'environment', 'jupyter_gui'):\n",
    "        continue\n",
    "    \n",
    "    sys.path.insert(0, os.path.join(REPOSITORIES_DP, fn))\n",
    "        \n",
    "    for mn in os.listdir(os.path.join(REPOSITORIES_DP, fn, fn)):\n",
    "        \n",
    "        if mn.endswith('.py'):\n",
    "\n",
    "            command = 'from {} import {}'.format(fn, mn[:-3])\n",
    "            print('\\t' + command)\n",
    "            exec(command)\n",
    "            \n",
    "    \n",
    "    sys.path.pop(0)"
   ]
  },
  {
   "cell_type": "code",
   "execution_count": null,
   "metadata": {
    "collapsed": true
   },
   "outputs": [],
   "source": []
  },
  {
   "cell_type": "code",
   "execution_count": null,
   "metadata": {
    "collapsed": true
   },
   "outputs": [],
   "source": []
  },
  {
   "cell_type": "code",
   "execution_count": null,
   "metadata": {
    "collapsed": true
   },
   "outputs": [],
   "source": []
  }
 ],
 "metadata": {
  "kernelspec": {
   "display_name": "Python 3",
   "language": "python",
   "name": "python3"
  },
  "language_info": {
   "codemirror_mode": {
    "name": "ipython",
    "version": 3
   },
   "file_extension": ".py",
   "mimetype": "text/x-python",
   "name": "python",
   "nbconvert_exporter": "python",
   "pygments_lexer": "ipython3",
   "version": "3.6.2"
  }
 },
 "nbformat": 4,
 "nbformat_minor": 2
}
