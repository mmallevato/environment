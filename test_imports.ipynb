{
 "cells": [
  {
   "cell_type": "code",
   "execution_count": 1,
   "metadata": {
    "ExecuteTime": {
     "end_time": "2017-09-24T07:45:23.682657Z",
     "start_time": "2017-09-24T07:45:23.676258Z"
    },
    "collapsed": true
   },
   "outputs": [],
   "source": [
    "import os\n",
    "import sys\n",
    "import importlib"
   ]
  },
  {
   "cell_type": "code",
   "execution_count": 4,
   "metadata": {
    "ExecuteTime": {
     "end_time": "2017-09-24T07:45:49.785660Z",
     "start_time": "2017-09-24T07:45:49.781710Z"
    },
    "collapsed": true
   },
   "outputs": [],
   "source": [
    "REPOSITORIES_DP = '/Users/k/Jumis/tools/repositories/'"
   ]
  },
  {
   "cell_type": "code",
   "execution_count": 35,
   "metadata": {
    "ExecuteTime": {
     "end_time": "2017-09-24T08:20:11.420483Z",
     "start_time": "2017-09-24T08:20:11.204403Z"
    },
    "scrolled": false
   },
   "outputs": [
    {
     "name": "stdout",
     "output_type": "stream",
     "text": [
      "\n",
      "0 .DS_Store\n",
      "\n",
      "1 array_nd\n",
      "\tfrom array_nd import __init__\n",
      "\tfrom array_nd import apply_function_on_2_1d_arrays_and_compute_empirical_p_value\n",
      "\tfrom array_nd import apply_function_on_2_2d_arrays_slices\n",
      "\tfrom array_nd import cluster_2d_array_rows_and_columns\n",
      "\tfrom array_nd import cluster_2d_array_slices_by_group\n",
      "\tfrom array_nd import compute_empirical_p_value\n",
      "\tfrom array_nd import compute_empirical_p_values_and_fdrs\n",
      "\tfrom array_nd import compute_log2_fold_ratios\n",
      "\tfrom array_nd import compute_margin_of_error\n",
      "\tfrom array_nd import drop_nan_and_apply_function_on_2_1d_arrays\n",
      "\tfrom array_nd import fit_functino_on_each_2d_array_slice\n",
      "\tfrom array_nd import get_1d_array_unique_objects_in_order\n",
      "\tfrom array_nd import make_nd_grid_coordinates\n",
      "\tfrom array_nd import normalize_1d_array\n",
      "\tfrom array_nd import normalize_2d_array\n",
      "\tfrom array_nd import shuffle_each_2d_array_slice\n",
      "\n",
      "2 classification\n",
      "\tfrom classification import __init__\n",
      "\tfrom classification import classify\n",
      "\n",
      "3 cluster\n",
      "\tfrom cluster import __init__\n",
      "\tfrom cluster import consensus_cluster\n",
      "\tfrom cluster import count_coclusterings\n",
      "\tfrom cluster import hierarchical_cluster_distances_and_compute_ccc\n",
      "\tfrom cluster import hierarchical_consensus_cluster\n",
      "\tfrom cluster import nmf_consensus_cluster\n",
      "\n",
      "4 cryptograph\n",
      "\tfrom cryptograph import __init__\n",
      "\tfrom cryptograph import access_passcode\n",
      "\tfrom cryptograph import crypt_with_aes\n",
      "\tfrom cryptograph import crypt_with_rsa\n",
      "\tfrom cryptograph import hash_\n",
      "\n",
      "5 dimension_reduction\n",
      "\tfrom dimension_reduction import __init__\n",
      "\tfrom dimension_reduction import mds\n",
      "\n",
      "6 environment\n",
      "\n",
      "7 feature\n",
      "\tfrom feature import __init__\n",
      "\tfrom feature import access_gff\n",
      "\tfrom feature import featurehdf5\n",
      "\n",
      "8 file\n",
      "\tfrom file import __init__\n",
      "\tfrom file import access_gct\n",
      "\tfrom file import access_gmt\n",
      "\tfrom file import read_fpkm_tracking\n",
      "\n",
      "9 grch\n",
      "\tfrom grch import __init__\n",
      "\tfrom grch import get_grch\n",
      "\n",
      "10 gsea\n",
      "\tfrom gsea import __init__\n",
      "\tfrom gsea import compute_enrichment_score\n",
      "\tfrom gsea import permute_and_compute_enrichment_score\n",
      "\tfrom gsea import run_single_sample_gsea\n",
      "\n",
      "11 hdf5\n",
      "\tfrom hdf5 import __init__\n",
      "\tfrom hdf5 import read_where_and_map_column_names\n",
      "\n",
      "12 information\n",
      "\tfrom information import __init__\n",
      "\tfrom information import compute_brier_entropy\n",
      "\tfrom information import compute_entropy\n",
      "\tfrom information import compute_information_coefficient\n",
      "\n",
      "13 jupyter_gui\n",
      "\n",
      "14 kernel_density\n",
      "\tfrom kernel_density import __init__\n",
      "\tfrom kernel_density import compute_bandwidths\n",
      "\tfrom kernel_density import kde\n",
      "\n",
      "15 linear_algebra\n",
      "\tfrom linear_algebra import __init__\n",
      "\tfrom linear_algebra import solve_ax_equal_b\n",
      "\n",
      "16 linear_model\n",
      "\tfrom linear_model import __init__\n",
      "\tfrom linear_model import correlate\n",
      "\n",
      "17 match\n",
      "\tfrom match import __init__\n",
      "\tfrom match import make_comparison_panel\n",
      "\tfrom match import make_match_panel\n",
      "\tfrom match import make_summary_match_panel\n",
      "\tfrom match import match\n",
      "\tfrom match import plot_match\n",
      "\n",
      "18 matrix_decomposition\n",
      "\tfrom matrix_decomposition import __init__\n",
      "\tfrom matrix_decomposition import nmf\n",
      "\n",
      "19 mutational_signature\n",
      "\tfrom mutational_signature import __init__\n",
      "\tfrom mutational_signature import mutational_signature\n",
      "\n",
      "20 network\n",
      "\tfrom network import __init__\n",
      "\n",
      "21 onco_gps\n",
      "\tfrom onco_gps import __init__\n",
      "\tfrom onco_gps import define_components\n",
      "\tfrom onco_gps import define_states\n",
      "\tfrom onco_gps import GPSMap\n"
     ]
    },
    {
     "ename": "ModuleNotFoundError",
     "evalue": "No module named 'onco_gps.dimension_reduction.dimension_reduction.array_nd.array_nd.array_2d'",
     "output_type": "error",
     "traceback": [
      "\u001b[0;31m---------------------------------------------------------------------------\u001b[0m",
      "\u001b[0;31mModuleNotFoundError\u001b[0m                       Traceback (most recent call last)",
      "\u001b[0;32m<ipython-input-35-451001a07f9f>\u001b[0m in \u001b[0;36m<module>\u001b[0;34m()\u001b[0m\n\u001b[1;32m     13\u001b[0m             \u001b[0mcommand\u001b[0m \u001b[0;34m=\u001b[0m \u001b[0;34m'from {} import {}'\u001b[0m\u001b[0;34m.\u001b[0m\u001b[0mformat\u001b[0m\u001b[0;34m(\u001b[0m\u001b[0mfn\u001b[0m\u001b[0;34m,\u001b[0m \u001b[0mmn\u001b[0m\u001b[0;34m[\u001b[0m\u001b[0;34m:\u001b[0m\u001b[0;34m-\u001b[0m\u001b[0;36m3\u001b[0m\u001b[0;34m]\u001b[0m\u001b[0;34m)\u001b[0m\u001b[0;34m\u001b[0m\u001b[0m\n\u001b[1;32m     14\u001b[0m             \u001b[0mprint\u001b[0m\u001b[0;34m(\u001b[0m\u001b[0;34m'\\t'\u001b[0m \u001b[0;34m+\u001b[0m \u001b[0mcommand\u001b[0m\u001b[0;34m)\u001b[0m\u001b[0;34m\u001b[0m\u001b[0m\n\u001b[0;32m---> 15\u001b[0;31m             \u001b[0mexec\u001b[0m\u001b[0;34m(\u001b[0m\u001b[0mcommand\u001b[0m\u001b[0;34m)\u001b[0m\u001b[0;34m\u001b[0m\u001b[0m\n\u001b[0m\u001b[1;32m     16\u001b[0m \u001b[0;34m\u001b[0m\u001b[0m\n\u001b[1;32m     17\u001b[0m \u001b[0;34m\u001b[0m\u001b[0m\n",
      "\u001b[0;32m<string>\u001b[0m in \u001b[0;36m<module>\u001b[0;34m()\u001b[0m\n",
      "\u001b[0;32m~/Jumis/tools/repositories/onco_gps/onco_gps/GPSMap.py\u001b[0m in \u001b[0;36m<module>\u001b[0;34m()\u001b[0m\n\u001b[1;32m      9\u001b[0m \u001b[0;34m\u001b[0m\u001b[0m\n\u001b[1;32m     10\u001b[0m \u001b[0;32mfrom\u001b[0m \u001b[0;34m.\u001b[0m\u001b[0marray_nd\u001b[0m\u001b[0;34m.\u001b[0m\u001b[0marray_nd\u001b[0m\u001b[0;34m.\u001b[0m\u001b[0mnormalize_2d_array\u001b[0m \u001b[0;32mimport\u001b[0m \u001b[0mnormalize_2d_array\u001b[0m\u001b[0;34m\u001b[0m\u001b[0m\n\u001b[0;32m---> 11\u001b[0;31m \u001b[0;32mfrom\u001b[0m \u001b[0;34m.\u001b[0m\u001b[0mdimension_reduction\u001b[0m\u001b[0;34m.\u001b[0m\u001b[0mdimension_reduction\u001b[0m\u001b[0;34m.\u001b[0m\u001b[0mmds\u001b[0m \u001b[0;32mimport\u001b[0m \u001b[0mmds\u001b[0m\u001b[0;34m\u001b[0m\u001b[0m\n\u001b[0m\u001b[1;32m     12\u001b[0m \u001b[0;32mfrom\u001b[0m \u001b[0;34m.\u001b[0m\u001b[0mkernel_density\u001b[0m\u001b[0;34m.\u001b[0m\u001b[0mkernel_density\u001b[0m\u001b[0;34m.\u001b[0m\u001b[0mcompute_bandwidths\u001b[0m \u001b[0;32mimport\u001b[0m\u001b[0;31m \u001b[0m\u001b[0;31m\\\u001b[0m\u001b[0;34m\u001b[0m\u001b[0m\n\u001b[1;32m     13\u001b[0m     \u001b[0mcompute_bandwidths\u001b[0m\u001b[0;34m\u001b[0m\u001b[0m\n",
      "\u001b[0;32m~/Jumis/tools/repositories/onco_gps/onco_gps/dimension_reduction/dimension_reduction/mds.py\u001b[0m in \u001b[0;36m<module>\u001b[0;34m()\u001b[0m\n\u001b[1;32m      1\u001b[0m \u001b[0;32mfrom\u001b[0m \u001b[0msklearn\u001b[0m\u001b[0;34m.\u001b[0m\u001b[0mmanifold\u001b[0m \u001b[0;32mimport\u001b[0m \u001b[0mMDS\u001b[0m\u001b[0;34m\u001b[0m\u001b[0m\n\u001b[1;32m      2\u001b[0m \u001b[0;34m\u001b[0m\u001b[0m\n\u001b[0;32m----> 3\u001b[0;31m \u001b[0;32mfrom\u001b[0m \u001b[0;34m.\u001b[0m\u001b[0marray_nd\u001b[0m\u001b[0;34m.\u001b[0m\u001b[0marray_nd\u001b[0m\u001b[0;34m.\u001b[0m\u001b[0marray_2d\u001b[0m \u001b[0;32mimport\u001b[0m \u001b[0mapply_2\u001b[0m\u001b[0;34m\u001b[0m\u001b[0m\n\u001b[0m\u001b[1;32m      4\u001b[0m \u001b[0;34m\u001b[0m\u001b[0m\n\u001b[1;32m      5\u001b[0m \u001b[0mRANDOM_SEED\u001b[0m \u001b[0;34m=\u001b[0m \u001b[0;36m20121020\u001b[0m\u001b[0;34m\u001b[0m\u001b[0m\n",
      "\u001b[0;31mModuleNotFoundError\u001b[0m: No module named 'onco_gps.dimension_reduction.dimension_reduction.array_nd.array_nd.array_2d'"
     ]
    }
   ],
   "source": [
    "for i, fn in enumerate(sorted(os.listdir(REPOSITORIES_DP))):\n",
    "    print('\\n{} {}'.format(i, fn))\n",
    "    \n",
    "    if fn in ('.DS_Store', 'environment', 'jupyter_gui'):\n",
    "        continue\n",
    "    \n",
    "    sys.path.insert(0, os.path.join(REPOSITORIES_DP, fn))\n",
    "        \n",
    "    for mn in os.listdir(os.path.join(REPOSITORIES_DP, fn, fn)):\n",
    "        \n",
    "        if mn.endswith('.py'):\n",
    "\n",
    "            command = 'from {} import {}'.format(fn, mn[:-3])\n",
    "            print('\\t' + command)\n",
    "            exec(command)\n",
    "            \n",
    "    \n",
    "    sys.path.pop(0)"
   ]
  },
  {
   "cell_type": "code",
   "execution_count": null,
   "metadata": {
    "collapsed": true
   },
   "outputs": [],
   "source": []
  }
 ],
 "metadata": {
  "kernelspec": {
   "display_name": "Python 3",
   "language": "python",
   "name": "python3"
  },
  "language_info": {
   "codemirror_mode": {
    "name": "ipython",
    "version": 3
   },
   "file_extension": ".py",
   "mimetype": "text/x-python",
   "name": "python",
   "nbconvert_exporter": "python",
   "pygments_lexer": "ipython3",
   "version": "3.6.2"
  }
 },
 "nbformat": 4,
 "nbformat_minor": 2
}
