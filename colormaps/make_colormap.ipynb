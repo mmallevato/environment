{
 "cells": [
  {
   "cell_type": "markdown",
   "metadata": {},
   "source": [
    "http://www.ncl.ucar.edu/Document/Graphics/color_table_gallery.shtml"
   ]
  },
  {
   "cell_type": "markdown",
   "metadata": {},
   "source": [
    "http://jdherman.github.io/colormap/"
   ]
  },
  {
   "cell_type": "code",
   "execution_count": 3,
   "metadata": {
    "collapsed": false
   },
   "outputs": [
    {
     "ename": "NameError",
     "evalue": "name 'write_colormap' is not defined",
     "output_type": "error",
     "traceback": [
      "\u001b[0;31m---------------------------------------------------------------------------\u001b[0m",
      "\u001b[0;31mNameError\u001b[0m                                 Traceback (most recent call last)",
      "\u001b[0;32m<ipython-input-3-f8cb0f5affa6>\u001b[0m in \u001b[0;36m<module>\u001b[0;34m()\u001b[0m\n\u001b[1;32m      8\u001b[0m \u001b[0msns\u001b[0m\u001b[0;34m.\u001b[0m\u001b[0mheatmap\u001b[0m\u001b[0;34m(\u001b[0m\u001b[0mpd\u001b[0m\u001b[0;34m.\u001b[0m\u001b[0mDataFrame\u001b[0m\u001b[0;34m(\u001b[0m\u001b[0mlist\u001b[0m\u001b[0;34m(\u001b[0m\u001b[0mrange\u001b[0m\u001b[0;34m(\u001b[0m\u001b[0mcmap\u001b[0m\u001b[0;34m.\u001b[0m\u001b[0mN\u001b[0m\u001b[0;34m)\u001b[0m\u001b[0;34m)\u001b[0m\u001b[0;34m)\u001b[0m\u001b[0;34m.\u001b[0m\u001b[0mT\u001b[0m\u001b[0;34m,\u001b[0m \u001b[0mxticklabels\u001b[0m\u001b[0;34m=\u001b[0m\u001b[0;32mFalse\u001b[0m\u001b[0;34m,\u001b[0m \u001b[0myticklabels\u001b[0m\u001b[0;34m=\u001b[0m\u001b[0;32mFalse\u001b[0m\u001b[0;34m,\u001b[0m \u001b[0mcmap\u001b[0m\u001b[0;34m=\u001b[0m\u001b[0mcmap\u001b[0m\u001b[0;34m)\u001b[0m\u001b[0;34m\u001b[0m\u001b[0m\n\u001b[1;32m      9\u001b[0m \u001b[0;34m\u001b[0m\u001b[0m\n\u001b[0;32m---> 10\u001b[0;31m \u001b[0mwrite_colormap\u001b[0m\u001b[0;34m(\u001b[0m\u001b[0mcmap\u001b[0m\u001b[0;34m,\u001b[0m \u001b[0;34m'/home/cyborg/ccal/ccal/colormap/association.rgba'\u001b[0m\u001b[0;34m)\u001b[0m\u001b[0;34m\u001b[0m\u001b[0m\n\u001b[0m",
      "\u001b[0;31mNameError\u001b[0m: name 'write_colormap' is not defined"
     ]
    }
   ],
   "source": [
    "reds = [0.26, 0.26, 0.26, 0.39, 0.69, 1, 1, 1, 1, 1, 1]\n",
    "greens_half = [0.26, 0.16, 0.09, 0.26, 0.69]\n",
    "colordict = {'red': tuple([(0.1 * i, r, r) for i, r in enumerate(reds)]),\n",
    "             'green': tuple([(0.1 * i, r, r) for i, r in enumerate(greens_half + [1] + list(reversed(greens_half)))]),\n",
    "             'blue': tuple([(0.1 * i, r, r) for i, r in enumerate(reversed(reds))])}\n",
    "cmap = LinearSegmentedColormap('custom', colordict)\n",
    "\n",
    "sns.heatmap(pd.DataFrame(list(range(cmap.N))).T, xticklabels=False, yticklabels=False, cmap=cmap)\n",
    "\n",
    "write_colormap(cmap, '/home/cyborg/ccal/ccal/colormap/association.rgba')"
   ]
  },
  {
   "cell_type": "code",
   "execution_count": 2,
   "metadata": {
    "collapsed": false
   },
   "outputs": [
    {
     "ename": "SyntaxError",
     "evalue": "invalid syntax (support.py, line 1446)",
     "output_type": "error",
     "traceback": [
      "\u001b[0;36m  File \u001b[0;32m\"/home/cyborg/ccal/ccal/support.py\"\u001b[0;36m, line \u001b[0;32m1446\u001b[0m\n\u001b[0;31m    CMAP_ASSOCIATION =\u001b[0m\n\u001b[0m                      ^\u001b[0m\n\u001b[0;31mSyntaxError\u001b[0m\u001b[0;31m:\u001b[0m invalid syntax\n"
     ]
    }
   ],
   "source": [
    "import sys\n",
    "import os\n",
    "\n",
    "import numpy as np\n",
    "import pandas as pd\n",
    "import matplotlib as mpl\n",
    "import matplotlib.pyplot as plt\n",
    "from matplotlib.colors import LinearSegmentedColormap, ListedColormap\n",
    "import seaborn as sns\n",
    "\n",
    "HOME_DIR = os.environ['HOME']\n",
    "sys.path.insert(0, os.path.join(HOME_DIR, 'ccal'))\n",
    "import ccal\n",
    "\n",
    "%matplotlib inline\n",
    "mpl.rcParams['figure.figsize'] = (32, 1)"
   ]
  },
  {
   "cell_type": "code",
   "execution_count": null,
   "metadata": {
    "collapsed": false
   },
   "outputs": [],
   "source": [
    "reds = [0, 0.1, 0.3, 0.5, 0.7, 1, 1, 1, 1, 1, 1]\n",
    "greens_half = [0, 0, 0, 0, 0]\n",
    "colordict = {'red': tuple([(0.1 * i, r, r) for i, r in enumerate(reds)]),\n",
    "             'green': tuple([(0.1 * i, r, r) for i, r in enumerate(greens_half + [1] + list(reversed(greens_half)))]),\n",
    "             'blue': tuple([(0.1 * i, r, r) for i, r in enumerate(reversed(reds))])}\n",
    "\n",
    "cmap = LinearSegmentedColormap('custom', colordict)\n",
    "\n",
    "sns.heatmap(pd.DataFrame(list(range(cmap.N))).T, xticklabels=False, yticklabels=False, cmap=cmap)"
   ]
  },
  {
   "cell_type": "code",
   "execution_count": null,
   "metadata": {
    "collapsed": false
   },
   "outputs": [],
   "source": [
    "cold = mpl.cm.winter\n",
    "hot = mpl.cm.autumn_r\n",
    "\n",
    "colors = []\n",
    "for i in range(cold.N):\n",
    "    colors.append(cold(i))\n",
    "colors +=  greens + [[1,1,1,1]] + yellows\n",
    "\n",
    "for i in range(hot.N):\n",
    "    colors.append(hot(i))\n",
    "cmap = ListedColormap(colors)\n",
    "\n",
    "sns.heatmap(pd.DataFrame(list(range(cmap.N))).T, xticklabels=False, yticklabels=False, cmap=cmap)"
   ]
  },
  {
   "cell_type": "code",
   "execution_count": null,
   "metadata": {
    "collapsed": false
   },
   "outputs": [],
   "source": [
    "colors = []\n",
    "with open('/home/cyborg/Downloads/continuous.rgba', 'r') as f:\n",
    "    for line in f:\n",
    "        colors.append([float(v) for v in line.split()])\n",
    "colors"
   ]
  },
  {
   "cell_type": "code",
   "execution_count": null,
   "metadata": {
    "collapsed": true
   },
   "outputs": [],
   "source": [
    " [[1.0, 1.0, 1.0, 1.0],\n",
    " [1.0, 1.0, 0.9686274509803922, 1.0],\n",
    " [1.0, 1.0, 0.9411764705882353, 1.0],\n",
    " [1.0, 1.0, 0.9098039215686274, 1.0],\n",
    " [1.0, 1.0, 0.8784313725490196, 1.0],\n",
    " [1.0, 1.0, 0.8470588235294118, 1.0],\n",
    " [1.0, 1.0, 0.8196078431372549, 1.0],\n",
    " [1.0, 1.0, 0.788235294117647, 1.0],\n",
    " [1.0, 1.0, 0.7568627450980392, 1.0],\n",
    " [1.0, 1.0, 0.7254901960784313, 1.0],\n",
    " [1.0, 1.0, 0.6980392156862745, 1.0],\n",
    " [1.0, 1.0, 0.6666666666666666, 1.0],\n",
    " [1.0, 1.0, 0.6352941176470588, 1.0],\n",
    " [1.0, 1.0, 0.6078431372549019, 1.0],\n",
    " [1.0, 1.0, 0.5764705882352941, 1.0],\n",
    " [1.0, 1.0, 0.5450980392156862, 1.0],\n",
    " [1.0, 1.0, 0.5137254901960784, 1.0],\n",
    " [1.0, 1.0, 0.48627450980392156, 1.0],\n",
    " [1.0, 1.0, 0.4549019607843137, 1.0],\n",
    " [1.0, 1.0, 0.4235294117647059, 1.0]]"
   ]
  },
  {
   "cell_type": "code",
   "execution_count": null,
   "metadata": {
    "collapsed": false,
    "scrolled": false
   },
   "outputs": [],
   "source": [
    "colors = []\n",
    "with open('/home/cyborg/Downloads/testcmap.rgb', 'r') as f:\n",
    "    for line in f:\n",
    "        try:\n",
    "            values = [float(c) for c in line.strip().split()]\n",
    "            if any(values):\n",
    "                colors.append(values)\n",
    "        except ValueError:\n",
    "            print('Skipping: {}'.format(line))\n",
    "\n",
    "colors = np.asarray(colors)\n",
    "if colors.max() > 1:\n",
    "    colors /= 255\n",
    "cmap = ListedColormap(colors.tolist())\n",
    "\n",
    "i = 23\n",
    "colors = cmap(range(cmap.N//2 - i, cmap.N//2 + i, 3))\n",
    "\n",
    "cmap = ListedColormap(colors)\n",
    "sns.heatmap(pd.DataFrame(list(range(len(colors)))).T, xticklabels=False, yticklabels=False, cmap=cmap)\n",
    "colors"
   ]
  },
  {
   "cell_type": "code",
   "execution_count": null,
   "metadata": {
    "collapsed": true
   },
   "outputs": [],
   "source": [
    "yellows = [         [ 1.        ,  1.        ,  0.96862745,  1.        ],\n",
    "       [ 1.        ,  1.        ,  0.87843137,  1.        ],\n",
    "       [ 1.        ,  1.        ,  0.78823529,  1.        ],\n",
    "       [ 1.        ,  1.        ,  0.69803922,  1.        ],\n",
    "       [ 1.        ,  1.        ,  0.60784314,  1.        ],\n",
    "       [ 1.        ,  1.        ,  0.51372549,  1.        ],\n",
    "       [ 1.        ,  1.        ,  0.42352941,  1.        ],\n",
    "       [ 1.        ,  1.        ,  0.33333333,  1.        ]]"
   ]
  },
  {
   "cell_type": "code",
   "execution_count": null,
   "metadata": {
    "collapsed": false
   },
   "outputs": [],
   "source": [
    "greens = []\n",
    "for c in yellows:\n",
    "    greens.append([c[2], c[1], c[2]])\n",
    "greens = list(reversed(greens))"
   ]
  },
  {
   "cell_type": "code",
   "execution_count": null,
   "metadata": {
    "collapsed": false
   },
   "outputs": [],
   "source": [
    "cmap = ListedColormap(greens + yellows)"
   ]
  },
  {
   "cell_type": "code",
   "execution_count": null,
   "metadata": {
    "collapsed": false
   },
   "outputs": [],
   "source": [
    "sns.heatmap(pd.DataFrame(list(range(len(colors)))).T, xticklabels=False, yticklabels=False, cmap=cmap)"
   ]
  },
  {
   "cell_type": "code",
   "execution_count": null,
   "metadata": {
    "collapsed": false
   },
   "outputs": [],
   "source": [
    "greens + yellows"
   ]
  },
  {
   "cell_type": "code",
   "execution_count": null,
   "metadata": {
    "collapsed": false
   },
   "outputs": [],
   "source": [
    "len(greens + yellows)"
   ]
  },
  {
   "cell_type": "code",
   "execution_count": null,
   "metadata": {
    "collapsed": true
   },
   "outputs": [],
   "source": []
  }
 ],
 "metadata": {
  "anaconda-cloud": {},
  "kernelspec": {
   "display_name": "Python [default]",
   "language": "python",
   "name": "python3"
  },
  "language_info": {
   "codemirror_mode": {
    "name": "ipython",
    "version": 3
   },
   "file_extension": ".py",
   "mimetype": "text/x-python",
   "name": "python",
   "nbconvert_exporter": "python",
   "pygments_lexer": "ipython3",
   "version": "3.5.2"
  }
 },
 "nbformat": 4,
 "nbformat_minor": 1
}
